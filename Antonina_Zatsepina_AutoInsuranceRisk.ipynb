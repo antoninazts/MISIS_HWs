{
 "cells": [
  {
   "cell_type": "markdown",
   "id": "aa33756c",
   "metadata": {},
   "source": [
    "Зацепина Антонина МИВТ-23-9"
   ]
  },
  {
   "cell_type": "markdown",
   "id": "e71af9e8",
   "metadata": {
    "toc": true
   },
   "source": [
    "<h1>Table of Contents<span class=\"tocSkip\"></span></h1>\n",
    "<div class=\"toc\"><ul class=\"toc-item\"><li><span><a href=\"#Подготовка-данных\" data-toc-modified-id=\"Подготовка-данных-1\"><span class=\"toc-item-num\">1&nbsp;&nbsp;</span>Подготовка данных</a></span></li><li><span><a href=\"#Разведочный-анализ\" data-toc-modified-id=\"Разведочный-анализ-2\"><span class=\"toc-item-num\">2&nbsp;&nbsp;</span>Разведочный анализ</a></span><ul class=\"toc-item\"><li><span><a href=\"#Зависимость-от-количественных-признаков\" data-toc-modified-id=\"Зависимость-от-количественных-признаков-2.1\"><span class=\"toc-item-num\">2.1&nbsp;&nbsp;</span>Зависимость от количественных признаков</a></span></li><li><span><a href=\"#Зависимость-от-категориальных-признаков\" data-toc-modified-id=\"Зависимость-от-категориальных-признаков-2.2\"><span class=\"toc-item-num\">2.2&nbsp;&nbsp;</span>Зависимость от категориальных признаков</a></span></li></ul></li><li><span><a href=\"#Предсказания\" data-toc-modified-id=\"Предсказания-3\"><span class=\"toc-item-num\">3&nbsp;&nbsp;</span>Предсказания</a></span><ul class=\"toc-item\"><li><span><a href=\"#Разделение-выборок\" data-toc-modified-id=\"Разделение-выборок-3.1\"><span class=\"toc-item-num\">3.1&nbsp;&nbsp;</span>Разделение выборок</a></span></li><li><span><a href=\"#Cross-Validation,-RandomForest\" data-toc-modified-id=\"Cross-Validation,-RandomForest-3.2\"><span class=\"toc-item-num\">3.2&nbsp;&nbsp;</span>Cross Validation, RandomForest</a></span></li><li><span><a href=\"#LogisticRegression\" data-toc-modified-id=\"LogisticRegression-3.3\"><span class=\"toc-item-num\">3.3&nbsp;&nbsp;</span>LogisticRegression</a></span></li><li><span><a href=\"#KNeighbors\" data-toc-modified-id=\"KNeighbors-3.4\"><span class=\"toc-item-num\">3.4&nbsp;&nbsp;</span>KNeighbors</a></span></li></ul></li><li><span><a href=\"#Оценка-вероятности-страхового-случая-для-40-летнего-мужчины-без-детей-на-SUV\" data-toc-modified-id=\"Оценка-вероятности-страхового-случая-для-40-летнего-мужчины-без-детей-на-SUV-4\"><span class=\"toc-item-num\">4&nbsp;&nbsp;</span>Оценка вероятности страхового случая для 40-летнего мужчины без детей на SUV</a></span></li></ul></div>"
   ]
  },
  {
   "cell_type": "code",
   "execution_count": 1,
   "id": "dc2d2bc7",
   "metadata": {},
   "outputs": [],
   "source": [
    "import pandas as pd\n",
    "import numpy as np\n",
    "\n",
    "import seaborn as sns\n",
    "import matplotlib.pyplot as plt\n",
    "\n",
    "import sklearn\n",
    "from sklearn import preprocessing, metrics\n",
    "from sklearn.linear_model import LogisticRegression\n",
    "from sklearn.model_selection import train_test_split, cross_val_predict, cross_val_score, GridSearchCV\n",
    "from sklearn.ensemble import RandomForestClassifier\n",
    "from sklearn.metrics import classification_report, confusion_matrix, accuracy_score, precision_score, recall_score\n",
    "from sklearn.neighbors import KNeighborsClassifier"
   ]
  },
  {
   "cell_type": "code",
   "execution_count": 2,
   "id": "f3a79f19",
   "metadata": {},
   "outputs": [],
   "source": [
    "AutoInsuranceRisk = pd.read_csv('AutoInsuranceRisk_training.csv', sep=';')"
   ]
  },
  {
   "cell_type": "markdown",
   "id": "66f7abce",
   "metadata": {},
   "source": [
    "# Подготовка данных"
   ]
  },
  {
   "cell_type": "code",
   "execution_count": 3,
   "id": "8ed8f3a1",
   "metadata": {},
   "outputs": [
    {
     "data": {
      "text/html": [
       "<div>\n",
       "<style scoped>\n",
       "    .dataframe tbody tr th:only-of-type {\n",
       "        vertical-align: middle;\n",
       "    }\n",
       "\n",
       "    .dataframe tbody tr th {\n",
       "        vertical-align: top;\n",
       "    }\n",
       "\n",
       "    .dataframe thead th {\n",
       "        text-align: right;\n",
       "    }\n",
       "</style>\n",
       "<table border=\"1\" class=\"dataframe\">\n",
       "  <thead>\n",
       "    <tr style=\"text-align: right;\">\n",
       "      <th></th>\n",
       "      <th>ContractId</th>\n",
       "      <th>Age</th>\n",
       "      <th>Gender</th>\n",
       "      <th>Children</th>\n",
       "      <th>Profession</th>\n",
       "      <th>Customer Type</th>\n",
       "      <th>Multiple cars</th>\n",
       "      <th>Driving Licence Years</th>\n",
       "      <th>Car category</th>\n",
       "      <th>Annual Kilometers</th>\n",
       "      <th>Gearbox</th>\n",
       "      <th>Fuel</th>\n",
       "      <th>Claim</th>\n",
       "    </tr>\n",
       "  </thead>\n",
       "  <tbody>\n",
       "    <tr>\n",
       "      <th>0</th>\n",
       "      <td>1211</td>\n",
       "      <td>44</td>\n",
       "      <td>Woman</td>\n",
       "      <td>equalormorethan4</td>\n",
       "      <td>Unemployed</td>\n",
       "      <td>Agency</td>\n",
       "      <td>Yes</td>\n",
       "      <td>19</td>\n",
       "      <td>Sedan</td>\n",
       "      <td>36087</td>\n",
       "      <td>Automatic</td>\n",
       "      <td>Diesel</td>\n",
       "      <td>No</td>\n",
       "    </tr>\n",
       "    <tr>\n",
       "      <th>1</th>\n",
       "      <td>1212</td>\n",
       "      <td>21</td>\n",
       "      <td>Woman</td>\n",
       "      <td>0</td>\n",
       "      <td>Private Sector - Director</td>\n",
       "      <td>On-line</td>\n",
       "      <td>No</td>\n",
       "      <td>3</td>\n",
       "      <td>SUV</td>\n",
       "      <td>30367</td>\n",
       "      <td>Manual</td>\n",
       "      <td>Diesel</td>\n",
       "      <td>No</td>\n",
       "    </tr>\n",
       "    <tr>\n",
       "      <th>2</th>\n",
       "      <td>1213</td>\n",
       "      <td>76</td>\n",
       "      <td>Woman</td>\n",
       "      <td>1</td>\n",
       "      <td>Private Sector - Employee</td>\n",
       "      <td>Agency</td>\n",
       "      <td>No</td>\n",
       "      <td>19</td>\n",
       "      <td>SUV</td>\n",
       "      <td>27640</td>\n",
       "      <td>Automatic</td>\n",
       "      <td>Diesel</td>\n",
       "      <td>No</td>\n",
       "    </tr>\n",
       "    <tr>\n",
       "      <th>3</th>\n",
       "      <td>1214</td>\n",
       "      <td>29</td>\n",
       "      <td>Woman</td>\n",
       "      <td>equalormorethan4</td>\n",
       "      <td>Private Sector - Employee</td>\n",
       "      <td>On-line</td>\n",
       "      <td>No</td>\n",
       "      <td>11</td>\n",
       "      <td>Sedan</td>\n",
       "      <td>22780</td>\n",
       "      <td>Automatic</td>\n",
       "      <td>Diesel</td>\n",
       "      <td>No</td>\n",
       "    </tr>\n",
       "    <tr>\n",
       "      <th>4</th>\n",
       "      <td>1215</td>\n",
       "      <td>44</td>\n",
       "      <td>Man</td>\n",
       "      <td>0</td>\n",
       "      <td>Private Sector - Director</td>\n",
       "      <td>Agency</td>\n",
       "      <td>No</td>\n",
       "      <td>11</td>\n",
       "      <td>SUV</td>\n",
       "      <td>36477</td>\n",
       "      <td>Automatic</td>\n",
       "      <td>Diesel</td>\n",
       "      <td>No</td>\n",
       "    </tr>\n",
       "    <tr>\n",
       "      <th>5</th>\n",
       "      <td>1216</td>\n",
       "      <td>50</td>\n",
       "      <td>Man</td>\n",
       "      <td>equalormorethan4</td>\n",
       "      <td>Independant</td>\n",
       "      <td>On-line</td>\n",
       "      <td>No</td>\n",
       "      <td>9</td>\n",
       "      <td>SUV</td>\n",
       "      <td>30134</td>\n",
       "      <td>Automatic</td>\n",
       "      <td>Diesel</td>\n",
       "      <td>No</td>\n",
       "    </tr>\n",
       "    <tr>\n",
       "      <th>6</th>\n",
       "      <td>1219</td>\n",
       "      <td>68</td>\n",
       "      <td>Man</td>\n",
       "      <td>equalormorethan4</td>\n",
       "      <td>Private Sector - Director</td>\n",
       "      <td>Agency</td>\n",
       "      <td>Yes</td>\n",
       "      <td>11</td>\n",
       "      <td>SUV</td>\n",
       "      <td>18771</td>\n",
       "      <td>Automatic</td>\n",
       "      <td>Diesel</td>\n",
       "      <td>No</td>\n",
       "    </tr>\n",
       "    <tr>\n",
       "      <th>7</th>\n",
       "      <td>1220</td>\n",
       "      <td>33</td>\n",
       "      <td>Woman</td>\n",
       "      <td>0</td>\n",
       "      <td>Retired</td>\n",
       "      <td>Agency</td>\n",
       "      <td>No</td>\n",
       "      <td>14</td>\n",
       "      <td>Sport</td>\n",
       "      <td>34066</td>\n",
       "      <td>Automatic</td>\n",
       "      <td>Diesel</td>\n",
       "      <td>No</td>\n",
       "    </tr>\n",
       "    <tr>\n",
       "      <th>8</th>\n",
       "      <td>1221</td>\n",
       "      <td>58</td>\n",
       "      <td>Woman</td>\n",
       "      <td>equalormorethan4</td>\n",
       "      <td>Retired</td>\n",
       "      <td>Agency</td>\n",
       "      <td>No</td>\n",
       "      <td>4</td>\n",
       "      <td>Sedan</td>\n",
       "      <td>48149</td>\n",
       "      <td>Manual</td>\n",
       "      <td>Diesel</td>\n",
       "      <td>No</td>\n",
       "    </tr>\n",
       "    <tr>\n",
       "      <th>9</th>\n",
       "      <td>1222</td>\n",
       "      <td>20</td>\n",
       "      <td>Man</td>\n",
       "      <td>0</td>\n",
       "      <td>Public Sector - Director</td>\n",
       "      <td>Agency</td>\n",
       "      <td>No</td>\n",
       "      <td>2</td>\n",
       "      <td>Sport</td>\n",
       "      <td>10862</td>\n",
       "      <td>Manual</td>\n",
       "      <td>Petrol</td>\n",
       "      <td>No</td>\n",
       "    </tr>\n",
       "  </tbody>\n",
       "</table>\n",
       "</div>"
      ],
      "text/plain": [
       "   ContractId  Age Gender          Children                 Profession  \\\n",
       "0        1211   44  Woman  equalormorethan4                 Unemployed   \n",
       "1        1212   21  Woman                 0  Private Sector - Director   \n",
       "2        1213   76  Woman                 1  Private Sector - Employee   \n",
       "3        1214   29  Woman  equalormorethan4  Private Sector - Employee   \n",
       "4        1215   44    Man                 0  Private Sector - Director   \n",
       "5        1216   50    Man  equalormorethan4                Independant   \n",
       "6        1219   68    Man  equalormorethan4  Private Sector - Director   \n",
       "7        1220   33  Woman                 0                    Retired   \n",
       "8        1221   58  Woman  equalormorethan4                    Retired   \n",
       "9        1222   20    Man                 0   Public Sector - Director   \n",
       "\n",
       "  Customer Type Multiple cars  Driving Licence Years Car category  \\\n",
       "0        Agency           Yes                     19        Sedan   \n",
       "1       On-line            No                      3          SUV   \n",
       "2        Agency            No                     19          SUV   \n",
       "3       On-line            No                     11        Sedan   \n",
       "4        Agency            No                     11          SUV   \n",
       "5       On-line            No                      9          SUV   \n",
       "6        Agency           Yes                     11          SUV   \n",
       "7        Agency            No                     14        Sport   \n",
       "8        Agency            No                      4        Sedan   \n",
       "9        Agency            No                      2        Sport   \n",
       "\n",
       "   Annual Kilometers    Gearbox    Fuel Claim  \n",
       "0              36087  Automatic  Diesel    No  \n",
       "1              30367     Manual  Diesel    No  \n",
       "2              27640  Automatic  Diesel    No  \n",
       "3              22780  Automatic  Diesel    No  \n",
       "4              36477  Automatic  Diesel    No  \n",
       "5              30134  Automatic  Diesel    No  \n",
       "6              18771  Automatic  Diesel    No  \n",
       "7              34066  Automatic  Diesel    No  \n",
       "8              48149     Manual  Diesel    No  \n",
       "9              10862     Manual  Petrol    No  "
      ]
     },
     "execution_count": 3,
     "metadata": {},
     "output_type": "execute_result"
    }
   ],
   "source": [
    "AutoInsuranceRisk.head(10)"
   ]
  },
  {
   "cell_type": "code",
   "execution_count": 4,
   "id": "39e1fd46",
   "metadata": {},
   "outputs": [
    {
     "data": {
      "text/plain": [
       "(8221, 13)"
      ]
     },
     "execution_count": 4,
     "metadata": {},
     "output_type": "execute_result"
    }
   ],
   "source": [
    "AutoInsuranceRisk.shape\n",
    "# 8221 срока, 13 столбцов"
   ]
  },
  {
   "cell_type": "code",
   "execution_count": 5,
   "id": "e1de5455",
   "metadata": {},
   "outputs": [
    {
     "data": {
      "text/plain": [
       "ContractId               0\n",
       "Age                      0\n",
       "Gender                   0\n",
       "Children                 0\n",
       "Profession               0\n",
       "Customer Type            0\n",
       "Multiple cars            0\n",
       "Driving Licence Years    0\n",
       "Car category             0\n",
       "Annual Kilometers        0\n",
       "Gearbox                  0\n",
       "Fuel                     0\n",
       "Claim                    0\n",
       "dtype: int64"
      ]
     },
     "execution_count": 5,
     "metadata": {},
     "output_type": "execute_result"
    }
   ],
   "source": [
    "AutoInsuranceRisk.isnull().sum()\n",
    "# отсутствующих значений нет"
   ]
  },
  {
   "cell_type": "code",
   "execution_count": 6,
   "id": "69b98207",
   "metadata": {},
   "outputs": [
    {
     "name": "stdout",
     "output_type": "stream",
     "text": [
      "ContractId -  8221\n",
      "Age -  79\n",
      "Gender -  2\n",
      "Children -  5\n",
      "Profession -  11\n",
      "Customer Type -  2\n",
      "Multiple cars -  2\n",
      "Driving Licence Years -  24\n",
      "Car category -  3\n",
      "Annual Kilometers -  7154\n",
      "Gearbox -  2\n",
      "Fuel -  2\n",
      "Claim -  2\n"
     ]
    }
   ],
   "source": [
    "for col in list(AutoInsuranceRisk.columns.values):\n",
    "    print(col, \"- \", len(AutoInsuranceRisk[col].unique()))\n",
    "\n",
    "# смотрим количество уникальных значений в столбцах\n",
    "# ContractId - Id контракта, от него решения о страховке не зависят\n",
    "# столбцы с количество уникальных значений = 2 - категориальные бинарные признаки\n",
    "# Car category, Profession - также категориальные признаки\n",
    "# Claim - таргет предсказания"
   ]
  },
  {
   "cell_type": "code",
   "execution_count": 7,
   "id": "3a551390",
   "metadata": {},
   "outputs": [
    {
     "name": "stdout",
     "output_type": "stream",
     "text": [
      "Gender ['Woman' 'Man']\n",
      "Customer Type ['Agency' 'On-line']\n",
      "Multiple cars ['Yes' 'No']\n",
      "Gearbox ['Automatic' 'Manual']\n",
      "Fuel ['Diesel' 'Petrol']\n",
      "Claim ['No' 'Yes']\n"
     ]
    }
   ],
   "source": [
    "for col in list(['Gender', 'Customer Type', 'Multiple cars', 'Gearbox', 'Fuel', 'Claim']):\n",
    "    print(col, AutoInsuranceRisk[col].unique())\n",
    "\n",
    "# заменим значения бинарных признаков на 0 и 1"
   ]
  },
  {
   "cell_type": "code",
   "execution_count": 8,
   "id": "9d5beae5",
   "metadata": {},
   "outputs": [],
   "source": [
    "binary_gender = {'Woman': 0, 'Man': 1}\n",
    "AutoInsuranceRisk['Gender'] = AutoInsuranceRisk['Gender'].map(binary_gender)"
   ]
  },
  {
   "cell_type": "code",
   "execution_count": 9,
   "id": "c52550e9",
   "metadata": {},
   "outputs": [],
   "source": [
    "binary_ans = {'No': 0, 'Yes': 1}\n",
    "AutoInsuranceRisk['Claim'] = AutoInsuranceRisk['Claim'].map(binary_ans)\n",
    "AutoInsuranceRisk['Multiple cars'] = AutoInsuranceRisk['Multiple cars'].map(binary_ans)"
   ]
  },
  {
   "cell_type": "code",
   "execution_count": 10,
   "id": "8f1a4736",
   "metadata": {},
   "outputs": [],
   "source": [
    "binary_ctype = {'Agency': 0, 'On-line': 1}\n",
    "AutoInsuranceRisk['Customer Type'] = AutoInsuranceRisk['Customer Type'].map(binary_ctype)"
   ]
  },
  {
   "cell_type": "code",
   "execution_count": 11,
   "id": "c77cd388",
   "metadata": {},
   "outputs": [],
   "source": [
    "binary_ctype = {'Automatic': 0, 'Manual': 1}\n",
    "AutoInsuranceRisk['Gearbox'] = AutoInsuranceRisk['Gearbox'].map(binary_ctype)"
   ]
  },
  {
   "cell_type": "code",
   "execution_count": 12,
   "id": "f39641bc",
   "metadata": {},
   "outputs": [],
   "source": [
    "binary_ctype = {'Diesel': 0, 'Petrol': 1}\n",
    "AutoInsuranceRisk['Fuel'] = AutoInsuranceRisk['Fuel'].map(binary_ctype)"
   ]
  },
  {
   "cell_type": "code",
   "execution_count": 13,
   "id": "8c121995",
   "metadata": {},
   "outputs": [],
   "source": [
    "AutoInsuranceRisk.loc[AutoInsuranceRisk['Children']=='equalormorethan4','Children'] = 4\n",
    "AutoInsuranceRisk['Children'] = AutoInsuranceRisk['Children'].astype(int)\n",
    "\n",
    "# приведем столбец Children к численным значениям"
   ]
  },
  {
   "cell_type": "code",
   "execution_count": 14,
   "id": "8fa08f19",
   "metadata": {},
   "outputs": [
    {
     "data": {
      "text/plain": [
       "array(['Sedan', 'SUV', 'Sport'], dtype=object)"
      ]
     },
     "execution_count": 14,
     "metadata": {},
     "output_type": "execute_result"
    }
   ],
   "source": [
    "AutoInsuranceRisk['Car category'].unique()"
   ]
  },
  {
   "cell_type": "code",
   "execution_count": 15,
   "id": "dd7cd2ea",
   "metadata": {},
   "outputs": [],
   "source": [
    "Car_category = dict()\n",
    "df_ = AutoInsuranceRisk[['Car category', 'Claim']].groupby('Car category').mean('Claim').reset_index()\n",
    "for i in range(len(AutoInsuranceRisk['Car category'].unique())):\n",
    "    key = df_.values[i,0]\n",
    "    value = df_.values[i,1]\n",
    "    Car_category[key] = value\n",
    "\n",
    "AutoInsuranceRisk['Car category'] = AutoInsuranceRisk['Car category'].map(Car_category)\n",
    "\n",
    "# заменим значения категории автомобиля на средниюю вероятность получения страховки по категории"
   ]
  },
  {
   "cell_type": "code",
   "execution_count": 16,
   "id": "57231560",
   "metadata": {},
   "outputs": [],
   "source": [
    "Profession = dict()\n",
    "df_ = AutoInsuranceRisk[['Profession', 'Claim']].groupby('Profession').mean('Claim').reset_index()\n",
    "for i in range(len(AutoInsuranceRisk['Profession'].unique())):\n",
    "    key = df_.values[i,0]\n",
    "    value = df_.values[i,1]\n",
    "    Profession[key] = value\n",
    "\n",
    "AutoInsuranceRisk['Profession'] = AutoInsuranceRisk['Profession'].map(Profession)\n",
    "\n",
    "# заменим значения профессии на средниюю вероятность получения страховки по профессии"
   ]
  },
  {
   "cell_type": "code",
   "execution_count": 17,
   "id": "fc4326ad",
   "metadata": {},
   "outputs": [],
   "source": [
    "AutoInsuranceRisk.drop(['ContractId'], axis=1, inplace=True)\n",
    "\n",
    "# избавляемся от ContractId который явно никак не влияет на результат"
   ]
  },
  {
   "cell_type": "code",
   "execution_count": 18,
   "id": "62505671",
   "metadata": {},
   "outputs": [
    {
     "data": {
      "text/html": [
       "<div>\n",
       "<style scoped>\n",
       "    .dataframe tbody tr th:only-of-type {\n",
       "        vertical-align: middle;\n",
       "    }\n",
       "\n",
       "    .dataframe tbody tr th {\n",
       "        vertical-align: top;\n",
       "    }\n",
       "\n",
       "    .dataframe thead th {\n",
       "        text-align: right;\n",
       "    }\n",
       "</style>\n",
       "<table border=\"1\" class=\"dataframe\">\n",
       "  <thead>\n",
       "    <tr style=\"text-align: right;\">\n",
       "      <th></th>\n",
       "      <th>Age</th>\n",
       "      <th>Gender</th>\n",
       "      <th>Children</th>\n",
       "      <th>Profession</th>\n",
       "      <th>Customer Type</th>\n",
       "      <th>Multiple cars</th>\n",
       "      <th>Driving Licence Years</th>\n",
       "      <th>Car category</th>\n",
       "      <th>Annual Kilometers</th>\n",
       "      <th>Gearbox</th>\n",
       "      <th>Fuel</th>\n",
       "      <th>Claim</th>\n",
       "    </tr>\n",
       "  </thead>\n",
       "  <tbody>\n",
       "    <tr>\n",
       "      <th>0</th>\n",
       "      <td>44</td>\n",
       "      <td>0</td>\n",
       "      <td>4</td>\n",
       "      <td>0.100890</td>\n",
       "      <td>0</td>\n",
       "      <td>1</td>\n",
       "      <td>19</td>\n",
       "      <td>0.094122</td>\n",
       "      <td>36087</td>\n",
       "      <td>0</td>\n",
       "      <td>0</td>\n",
       "      <td>0</td>\n",
       "    </tr>\n",
       "    <tr>\n",
       "      <th>1</th>\n",
       "      <td>21</td>\n",
       "      <td>0</td>\n",
       "      <td>0</td>\n",
       "      <td>0.083969</td>\n",
       "      <td>1</td>\n",
       "      <td>0</td>\n",
       "      <td>3</td>\n",
       "      <td>0.052058</td>\n",
       "      <td>30367</td>\n",
       "      <td>1</td>\n",
       "      <td>0</td>\n",
       "      <td>0</td>\n",
       "    </tr>\n",
       "    <tr>\n",
       "      <th>2</th>\n",
       "      <td>76</td>\n",
       "      <td>0</td>\n",
       "      <td>1</td>\n",
       "      <td>0.053623</td>\n",
       "      <td>0</td>\n",
       "      <td>0</td>\n",
       "      <td>19</td>\n",
       "      <td>0.052058</td>\n",
       "      <td>27640</td>\n",
       "      <td>0</td>\n",
       "      <td>0</td>\n",
       "      <td>0</td>\n",
       "    </tr>\n",
       "    <tr>\n",
       "      <th>3</th>\n",
       "      <td>29</td>\n",
       "      <td>0</td>\n",
       "      <td>4</td>\n",
       "      <td>0.053623</td>\n",
       "      <td>1</td>\n",
       "      <td>0</td>\n",
       "      <td>11</td>\n",
       "      <td>0.094122</td>\n",
       "      <td>22780</td>\n",
       "      <td>0</td>\n",
       "      <td>0</td>\n",
       "      <td>0</td>\n",
       "    </tr>\n",
       "    <tr>\n",
       "      <th>4</th>\n",
       "      <td>44</td>\n",
       "      <td>1</td>\n",
       "      <td>0</td>\n",
       "      <td>0.083969</td>\n",
       "      <td>0</td>\n",
       "      <td>0</td>\n",
       "      <td>11</td>\n",
       "      <td>0.052058</td>\n",
       "      <td>36477</td>\n",
       "      <td>0</td>\n",
       "      <td>0</td>\n",
       "      <td>0</td>\n",
       "    </tr>\n",
       "    <tr>\n",
       "      <th>5</th>\n",
       "      <td>50</td>\n",
       "      <td>1</td>\n",
       "      <td>4</td>\n",
       "      <td>0.087953</td>\n",
       "      <td>1</td>\n",
       "      <td>0</td>\n",
       "      <td>9</td>\n",
       "      <td>0.052058</td>\n",
       "      <td>30134</td>\n",
       "      <td>0</td>\n",
       "      <td>0</td>\n",
       "      <td>0</td>\n",
       "    </tr>\n",
       "    <tr>\n",
       "      <th>6</th>\n",
       "      <td>68</td>\n",
       "      <td>1</td>\n",
       "      <td>4</td>\n",
       "      <td>0.083969</td>\n",
       "      <td>0</td>\n",
       "      <td>1</td>\n",
       "      <td>11</td>\n",
       "      <td>0.052058</td>\n",
       "      <td>18771</td>\n",
       "      <td>0</td>\n",
       "      <td>0</td>\n",
       "      <td>0</td>\n",
       "    </tr>\n",
       "    <tr>\n",
       "      <th>7</th>\n",
       "      <td>33</td>\n",
       "      <td>0</td>\n",
       "      <td>0</td>\n",
       "      <td>0.094203</td>\n",
       "      <td>0</td>\n",
       "      <td>0</td>\n",
       "      <td>14</td>\n",
       "      <td>0.131599</td>\n",
       "      <td>34066</td>\n",
       "      <td>0</td>\n",
       "      <td>0</td>\n",
       "      <td>0</td>\n",
       "    </tr>\n",
       "    <tr>\n",
       "      <th>8</th>\n",
       "      <td>58</td>\n",
       "      <td>0</td>\n",
       "      <td>4</td>\n",
       "      <td>0.094203</td>\n",
       "      <td>0</td>\n",
       "      <td>0</td>\n",
       "      <td>4</td>\n",
       "      <td>0.094122</td>\n",
       "      <td>48149</td>\n",
       "      <td>1</td>\n",
       "      <td>0</td>\n",
       "      <td>0</td>\n",
       "    </tr>\n",
       "    <tr>\n",
       "      <th>9</th>\n",
       "      <td>20</td>\n",
       "      <td>1</td>\n",
       "      <td>0</td>\n",
       "      <td>0.062155</td>\n",
       "      <td>0</td>\n",
       "      <td>0</td>\n",
       "      <td>2</td>\n",
       "      <td>0.131599</td>\n",
       "      <td>10862</td>\n",
       "      <td>1</td>\n",
       "      <td>1</td>\n",
       "      <td>0</td>\n",
       "    </tr>\n",
       "  </tbody>\n",
       "</table>\n",
       "</div>"
      ],
      "text/plain": [
       "   Age  Gender  Children  Profession  Customer Type  Multiple cars  \\\n",
       "0   44       0         4    0.100890              0              1   \n",
       "1   21       0         0    0.083969              1              0   \n",
       "2   76       0         1    0.053623              0              0   \n",
       "3   29       0         4    0.053623              1              0   \n",
       "4   44       1         0    0.083969              0              0   \n",
       "5   50       1         4    0.087953              1              0   \n",
       "6   68       1         4    0.083969              0              1   \n",
       "7   33       0         0    0.094203              0              0   \n",
       "8   58       0         4    0.094203              0              0   \n",
       "9   20       1         0    0.062155              0              0   \n",
       "\n",
       "   Driving Licence Years  Car category  Annual Kilometers  Gearbox  Fuel  \\\n",
       "0                     19      0.094122              36087        0     0   \n",
       "1                      3      0.052058              30367        1     0   \n",
       "2                     19      0.052058              27640        0     0   \n",
       "3                     11      0.094122              22780        0     0   \n",
       "4                     11      0.052058              36477        0     0   \n",
       "5                      9      0.052058              30134        0     0   \n",
       "6                     11      0.052058              18771        0     0   \n",
       "7                     14      0.131599              34066        0     0   \n",
       "8                      4      0.094122              48149        1     0   \n",
       "9                      2      0.131599              10862        1     1   \n",
       "\n",
       "   Claim  \n",
       "0      0  \n",
       "1      0  \n",
       "2      0  \n",
       "3      0  \n",
       "4      0  \n",
       "5      0  \n",
       "6      0  \n",
       "7      0  \n",
       "8      0  \n",
       "9      0  "
      ]
     },
     "execution_count": 18,
     "metadata": {},
     "output_type": "execute_result"
    }
   ],
   "source": [
    "AutoInsuranceRisk = AutoInsuranceRisk.apply(pd.to_numeric)\n",
    "AutoInsuranceRisk.head(10)"
   ]
  },
  {
   "cell_type": "code",
   "execution_count": 19,
   "id": "26d760b9",
   "metadata": {},
   "outputs": [],
   "source": [
    "AutoInsuranceRisk.to_csv('AutoInsuranceRisk_num.csv', index=False)"
   ]
  },
  {
   "cell_type": "markdown",
   "id": "8d389831",
   "metadata": {},
   "source": [
    "# Разведочный анализ"
   ]
  },
  {
   "cell_type": "code",
   "execution_count": 20,
   "id": "c4cb7267",
   "metadata": {},
   "outputs": [],
   "source": [
    "# категориальные предикаторы \n",
    "cat_feat = ['Gender', 'Profession', 'Customer Type', 'Multiple cars', 'Car category', 'Gearbox', 'Fuel']\n",
    "# количественные\n",
    "cont_feat = ['Age', 'Children', 'Driving Licence Years', 'Annual Kilometers']"
   ]
  },
  {
   "cell_type": "markdown",
   "id": "4db6a500",
   "metadata": {},
   "source": [
    "## Зависимость от количественных признаков "
   ]
  },
  {
   "cell_type": "code",
   "execution_count": 21,
   "id": "30450f2a",
   "metadata": {},
   "outputs": [
    {
     "data": {
      "text/html": [
       "<div>\n",
       "<style scoped>\n",
       "    .dataframe tbody tr th:only-of-type {\n",
       "        vertical-align: middle;\n",
       "    }\n",
       "\n",
       "    .dataframe tbody tr th {\n",
       "        vertical-align: top;\n",
       "    }\n",
       "\n",
       "    .dataframe thead th {\n",
       "        text-align: right;\n",
       "    }\n",
       "</style>\n",
       "<table border=\"1\" class=\"dataframe\">\n",
       "  <thead>\n",
       "    <tr style=\"text-align: right;\">\n",
       "      <th></th>\n",
       "      <th>Age</th>\n",
       "      <th>Children</th>\n",
       "      <th>Driving Licence Years</th>\n",
       "      <th>Annual Kilometers</th>\n",
       "      <th>Claim</th>\n",
       "    </tr>\n",
       "  </thead>\n",
       "  <tbody>\n",
       "    <tr>\n",
       "      <th>0</th>\n",
       "      <td>44</td>\n",
       "      <td>4</td>\n",
       "      <td>19</td>\n",
       "      <td>36087</td>\n",
       "      <td>0</td>\n",
       "    </tr>\n",
       "    <tr>\n",
       "      <th>1</th>\n",
       "      <td>21</td>\n",
       "      <td>0</td>\n",
       "      <td>3</td>\n",
       "      <td>30367</td>\n",
       "      <td>0</td>\n",
       "    </tr>\n",
       "    <tr>\n",
       "      <th>2</th>\n",
       "      <td>76</td>\n",
       "      <td>1</td>\n",
       "      <td>19</td>\n",
       "      <td>27640</td>\n",
       "      <td>0</td>\n",
       "    </tr>\n",
       "    <tr>\n",
       "      <th>3</th>\n",
       "      <td>29</td>\n",
       "      <td>4</td>\n",
       "      <td>11</td>\n",
       "      <td>22780</td>\n",
       "      <td>0</td>\n",
       "    </tr>\n",
       "    <tr>\n",
       "      <th>4</th>\n",
       "      <td>44</td>\n",
       "      <td>0</td>\n",
       "      <td>11</td>\n",
       "      <td>36477</td>\n",
       "      <td>0</td>\n",
       "    </tr>\n",
       "  </tbody>\n",
       "</table>\n",
       "</div>"
      ],
      "text/plain": [
       "   Age  Children  Driving Licence Years  Annual Kilometers  Claim\n",
       "0   44         4                     19              36087      0\n",
       "1   21         0                      3              30367      0\n",
       "2   76         1                     19              27640      0\n",
       "3   29         4                     11              22780      0\n",
       "4   44         0                     11              36477      0"
      ]
     },
     "execution_count": 21,
     "metadata": {},
     "output_type": "execute_result"
    }
   ],
   "source": [
    "Auto_cont = AutoInsuranceRisk.drop(cat_feat, axis=1)\n",
    "Auto_cont.head()\n",
    "\n",
    "# выделили исключительно количественные признаки"
   ]
  },
  {
   "cell_type": "code",
   "execution_count": 22,
   "id": "0c9109e8",
   "metadata": {},
   "outputs": [
    {
     "data": {
      "text/html": [
       "<div>\n",
       "<style scoped>\n",
       "    .dataframe tbody tr th:only-of-type {\n",
       "        vertical-align: middle;\n",
       "    }\n",
       "\n",
       "    .dataframe tbody tr th {\n",
       "        vertical-align: top;\n",
       "    }\n",
       "\n",
       "    .dataframe thead th {\n",
       "        text-align: right;\n",
       "    }\n",
       "</style>\n",
       "<table border=\"1\" class=\"dataframe\">\n",
       "  <thead>\n",
       "    <tr style=\"text-align: right;\">\n",
       "      <th></th>\n",
       "      <th>Age</th>\n",
       "      <th>Children</th>\n",
       "      <th>Driving Licence Years</th>\n",
       "      <th>Annual Kilometers</th>\n",
       "      <th>Claim</th>\n",
       "    </tr>\n",
       "  </thead>\n",
       "  <tbody>\n",
       "    <tr>\n",
       "      <th>count</th>\n",
       "      <td>8221.000000</td>\n",
       "      <td>8221.000000</td>\n",
       "      <td>8221.000000</td>\n",
       "      <td>8221.000000</td>\n",
       "      <td>8221.000000</td>\n",
       "    </tr>\n",
       "    <tr>\n",
       "      <th>mean</th>\n",
       "      <td>47.543851</td>\n",
       "      <td>2.168471</td>\n",
       "      <td>10.871913</td>\n",
       "      <td>26524.309573</td>\n",
       "      <td>0.091838</td>\n",
       "    </tr>\n",
       "    <tr>\n",
       "      <th>std</th>\n",
       "      <td>17.306432</td>\n",
       "      <td>1.457745</td>\n",
       "      <td>6.077421</td>\n",
       "      <td>8894.273546</td>\n",
       "      <td>0.288815</td>\n",
       "    </tr>\n",
       "    <tr>\n",
       "      <th>min</th>\n",
       "      <td>18.000000</td>\n",
       "      <td>0.000000</td>\n",
       "      <td>0.000000</td>\n",
       "      <td>5874.000000</td>\n",
       "      <td>0.000000</td>\n",
       "    </tr>\n",
       "    <tr>\n",
       "      <th>25%</th>\n",
       "      <td>36.000000</td>\n",
       "      <td>1.000000</td>\n",
       "      <td>6.000000</td>\n",
       "      <td>20215.000000</td>\n",
       "      <td>0.000000</td>\n",
       "    </tr>\n",
       "    <tr>\n",
       "      <th>50%</th>\n",
       "      <td>47.000000</td>\n",
       "      <td>2.000000</td>\n",
       "      <td>11.000000</td>\n",
       "      <td>24905.000000</td>\n",
       "      <td>0.000000</td>\n",
       "    </tr>\n",
       "    <tr>\n",
       "      <th>75%</th>\n",
       "      <td>59.000000</td>\n",
       "      <td>4.000000</td>\n",
       "      <td>16.000000</td>\n",
       "      <td>31275.000000</td>\n",
       "      <td>0.000000</td>\n",
       "    </tr>\n",
       "    <tr>\n",
       "      <th>max</th>\n",
       "      <td>106.000000</td>\n",
       "      <td>4.000000</td>\n",
       "      <td>23.000000</td>\n",
       "      <td>77401.000000</td>\n",
       "      <td>1.000000</td>\n",
       "    </tr>\n",
       "  </tbody>\n",
       "</table>\n",
       "</div>"
      ],
      "text/plain": [
       "               Age     Children  Driving Licence Years  Annual Kilometers  \\\n",
       "count  8221.000000  8221.000000            8221.000000        8221.000000   \n",
       "mean     47.543851     2.168471              10.871913       26524.309573   \n",
       "std      17.306432     1.457745               6.077421        8894.273546   \n",
       "min      18.000000     0.000000               0.000000        5874.000000   \n",
       "25%      36.000000     1.000000               6.000000       20215.000000   \n",
       "50%      47.000000     2.000000              11.000000       24905.000000   \n",
       "75%      59.000000     4.000000              16.000000       31275.000000   \n",
       "max     106.000000     4.000000              23.000000       77401.000000   \n",
       "\n",
       "             Claim  \n",
       "count  8221.000000  \n",
       "mean      0.091838  \n",
       "std       0.288815  \n",
       "min       0.000000  \n",
       "25%       0.000000  \n",
       "50%       0.000000  \n",
       "75%       0.000000  \n",
       "max       1.000000  "
      ]
     },
     "execution_count": 22,
     "metadata": {},
     "output_type": "execute_result"
    }
   ],
   "source": [
    "Auto_cont.describe()\n",
    "# примечательно, что стеднее по Claim = 0,09 - это говорит, о том что подавляющее большинство решений отрицательны"
   ]
  },
  {
   "cell_type": "code",
   "execution_count": 23,
   "id": "5e6afe4e",
   "metadata": {},
   "outputs": [
    {
     "data": {
      "text/html": [
       "<div>\n",
       "<style scoped>\n",
       "    .dataframe tbody tr th:only-of-type {\n",
       "        vertical-align: middle;\n",
       "    }\n",
       "\n",
       "    .dataframe tbody tr th {\n",
       "        vertical-align: top;\n",
       "    }\n",
       "\n",
       "    .dataframe thead th {\n",
       "        text-align: right;\n",
       "    }\n",
       "</style>\n",
       "<table border=\"1\" class=\"dataframe\">\n",
       "  <thead>\n",
       "    <tr style=\"text-align: right;\">\n",
       "      <th></th>\n",
       "      <th>Age</th>\n",
       "      <th>Children</th>\n",
       "      <th>Driving Licence Years</th>\n",
       "      <th>Annual Kilometers</th>\n",
       "    </tr>\n",
       "    <tr>\n",
       "      <th>Claim</th>\n",
       "      <th></th>\n",
       "      <th></th>\n",
       "      <th></th>\n",
       "      <th></th>\n",
       "    </tr>\n",
       "  </thead>\n",
       "  <tbody>\n",
       "    <tr>\n",
       "      <th>0</th>\n",
       "      <td>47.527190</td>\n",
       "      <td>2.218457</td>\n",
       "      <td>10.852264</td>\n",
       "      <td>26527.224484</td>\n",
       "    </tr>\n",
       "    <tr>\n",
       "      <th>1</th>\n",
       "      <td>47.708609</td>\n",
       "      <td>1.674172</td>\n",
       "      <td>11.066225</td>\n",
       "      <td>26495.484768</td>\n",
       "    </tr>\n",
       "  </tbody>\n",
       "</table>\n",
       "</div>"
      ],
      "text/plain": [
       "             Age  Children  Driving Licence Years  Annual Kilometers\n",
       "Claim                                                               \n",
       "0      47.527190  2.218457              10.852264       26527.224484\n",
       "1      47.708609  1.674172              11.066225       26495.484768"
      ]
     },
     "execution_count": 23,
     "metadata": {},
     "output_type": "execute_result"
    }
   ],
   "source": [
    "Auto_cont.groupby('Claim').mean()\n",
    "# средние значения по Age, Driving Licence Years и Annual Kilometers сгруппированные относительно Claim, \n",
    "# имеют незначительные различия, по этим признакам будет сложно делать предсказания\n",
    "# средние значения по Children имеют более существенную разницу, вероятно это наиболее весомый признак"
   ]
  },
  {
   "cell_type": "code",
   "execution_count": 24,
   "id": "f5e14bdc",
   "metadata": {},
   "outputs": [
    {
     "data": {
      "image/png": "[encoded data removed]",
      "text/plain": [
       "<Figure size 432x288 with 1 Axes>"
      ]
     },
     "metadata": {
      "needs_background": "light"
     },
     "output_type": "display_data"
    },
    {
     "data": {
      "image/png": "[encoded data removed]",
      "text/plain": [
       "<Figure size 432x288 with 1 Axes>"
      ]
     },
     "metadata": {
      "needs_background": "light"
     },
     "output_type": "display_data"
    },
    {
     "data": {
      "image/png": "[encoded data removed]",
      "text/plain": [
       "<Figure size 432x288 with 1 Axes>"
      ]
     },
     "metadata": {
      "needs_background": "light"
     },
     "output_type": "display_data"
    },
    {
     "data": {
      "image/png": "[encoded data removed]",
      "text/plain": [
       "<Figure size 432x288 with 1 Axes>"
      ]
     },
     "metadata": {
      "needs_background": "light"
     },
     "output_type": "display_data"
    }
   ],
   "source": [
    "for i in ['Age', 'Children', 'Driving Licence Years', 'Annual Kilometers']:\n",
    "    claim_no = list(Auto_cont[Auto_cont['Claim'] == 0][i].dropna())\n",
    "    claim_yes = list(Auto_cont[Auto_cont['Claim'] == 1][i].dropna())\n",
    "    xmin = min(min(claim_no), min(claim_yes))\n",
    "    xmax = max(max(claim_no), max(claim_yes))\n",
    "    width = (xmax - xmin) / 40\n",
    "    sns.histplot(claim_no, color='r', kde=False, bins=np.arange(xmin, xmax, width))\n",
    "    sns.histplot(claim_yes, color='g', kde=False, bins=np.arange(xmin, xmax, width))\n",
    "    plt.legend(['claim_no', 'claim_yes'])\n",
    "    plt.title('Overlaid histogram for {}'.format(i))\n",
    "    plt.show()\n",
    "    \n",
    "# визуализируем данные по количественным признакам, разбив их по Claim"
   ]
  },
  {
   "cell_type": "code",
   "execution_count": 25,
   "id": "6bf9d941",
   "metadata": {},
   "outputs": [
    {
     "data": {
      "text/plain": [
       "<Figure size 432x288 with 0 Axes>"
      ]
     },
     "metadata": {},
     "output_type": "display_data"
    },
    {
     "data": {
      "image/png": "[encoded data removed]",
      "text/plain": [
       "<Figure size 720x360 with 1 Axes>"
      ]
     },
     "metadata": {
      "needs_background": "light"
     },
     "output_type": "display_data"
    },
    {
     "data": {
      "image/png": "[encoded data removed]",
      "text/plain": [
       "<Figure size 720x360 with 1 Axes>"
      ]
     },
     "metadata": {
      "needs_background": "light"
     },
     "output_type": "display_data"
    }
   ],
   "source": [
    "for i, col in enumerate(['Children', 'Driving Licence Years']):\n",
    "    plt.figure(i)\n",
    "    sns.catplot(x=col, y='Claim', data=Auto_cont, kind='point', aspect=2,)\n",
    "    \n",
    "# вероятность получения положительного решения\n",
    "# подтверждаем, что Children является наиболее весомым фактором"
   ]
  },
  {
   "cell_type": "markdown",
   "id": "a355cde2",
   "metadata": {},
   "source": [
    "## Зависимость от категориальных признаков "
   ]
  },
  {
   "cell_type": "code",
   "execution_count": 26,
   "id": "52189068",
   "metadata": {},
   "outputs": [
    {
     "data": {
      "text/html": [
       "<div>\n",
       "<style scoped>\n",
       "    .dataframe tbody tr th:only-of-type {\n",
       "        vertical-align: middle;\n",
       "    }\n",
       "\n",
       "    .dataframe tbody tr th {\n",
       "        vertical-align: top;\n",
       "    }\n",
       "\n",
       "    .dataframe thead th {\n",
       "        text-align: right;\n",
       "    }\n",
       "</style>\n",
       "<table border=\"1\" class=\"dataframe\">\n",
       "  <thead>\n",
       "    <tr style=\"text-align: right;\">\n",
       "      <th></th>\n",
       "      <th>Gender</th>\n",
       "      <th>Profession</th>\n",
       "      <th>Customer Type</th>\n",
       "      <th>Multiple cars</th>\n",
       "      <th>Car category</th>\n",
       "      <th>Gearbox</th>\n",
       "      <th>Fuel</th>\n",
       "      <th>Claim</th>\n",
       "    </tr>\n",
       "  </thead>\n",
       "  <tbody>\n",
       "    <tr>\n",
       "      <th>0</th>\n",
       "      <td>0</td>\n",
       "      <td>0.100890</td>\n",
       "      <td>0</td>\n",
       "      <td>1</td>\n",
       "      <td>0.094122</td>\n",
       "      <td>0</td>\n",
       "      <td>0</td>\n",
       "      <td>0</td>\n",
       "    </tr>\n",
       "    <tr>\n",
       "      <th>1</th>\n",
       "      <td>0</td>\n",
       "      <td>0.083969</td>\n",
       "      <td>1</td>\n",
       "      <td>0</td>\n",
       "      <td>0.052058</td>\n",
       "      <td>1</td>\n",
       "      <td>0</td>\n",
       "      <td>0</td>\n",
       "    </tr>\n",
       "    <tr>\n",
       "      <th>2</th>\n",
       "      <td>0</td>\n",
       "      <td>0.053623</td>\n",
       "      <td>0</td>\n",
       "      <td>0</td>\n",
       "      <td>0.052058</td>\n",
       "      <td>0</td>\n",
       "      <td>0</td>\n",
       "      <td>0</td>\n",
       "    </tr>\n",
       "    <tr>\n",
       "      <th>3</th>\n",
       "      <td>0</td>\n",
       "      <td>0.053623</td>\n",
       "      <td>1</td>\n",
       "      <td>0</td>\n",
       "      <td>0.094122</td>\n",
       "      <td>0</td>\n",
       "      <td>0</td>\n",
       "      <td>0</td>\n",
       "    </tr>\n",
       "    <tr>\n",
       "      <th>4</th>\n",
       "      <td>1</td>\n",
       "      <td>0.083969</td>\n",
       "      <td>0</td>\n",
       "      <td>0</td>\n",
       "      <td>0.052058</td>\n",
       "      <td>0</td>\n",
       "      <td>0</td>\n",
       "      <td>0</td>\n",
       "    </tr>\n",
       "  </tbody>\n",
       "</table>\n",
       "</div>"
      ],
      "text/plain": [
       "   Gender  Profession  Customer Type  Multiple cars  Car category  Gearbox  \\\n",
       "0       0    0.100890              0              1      0.094122        0   \n",
       "1       0    0.083969              1              0      0.052058        1   \n",
       "2       0    0.053623              0              0      0.052058        0   \n",
       "3       0    0.053623              1              0      0.094122        0   \n",
       "4       1    0.083969              0              0      0.052058        0   \n",
       "\n",
       "   Fuel  Claim  \n",
       "0     0      0  \n",
       "1     0      0  \n",
       "2     0      0  \n",
       "3     0      0  \n",
       "4     0      0  "
      ]
     },
     "execution_count": 26,
     "metadata": {},
     "output_type": "execute_result"
    }
   ],
   "source": [
    "Auto_cat = AutoInsuranceRisk.drop(cont_feat, axis=1)\n",
    "Auto_cat.head()\n",
    "\n",
    "# выделили исключительно количественные признаки"
   ]
  },
  {
   "cell_type": "code",
   "execution_count": 27,
   "id": "bdc67057",
   "metadata": {},
   "outputs": [
    {
     "data": {
      "text/plain": [
       "<Figure size 432x288 with 0 Axes>"
      ]
     },
     "metadata": {},
     "output_type": "display_data"
    },
    {
     "data": {
      "image/png": "[encoded data removed]",
      "text/plain": [
       "<Figure size 720x360 with 1 Axes>"
      ]
     },
     "metadata": {
      "needs_background": "light"
     },
     "output_type": "display_data"
    },
    {
     "data": {
      "image/png": "[encoded data removed]",
      "text/plain": [
       "<Figure size 720x360 with 1 Axes>"
      ]
     },
     "metadata": {
      "needs_background": "light"
     },
     "output_type": "display_data"
    },
    {
     "data": {
      "image/png": "[encoded data removed]",
      "text/plain": [
       "<Figure size 720x360 with 1 Axes>"
      ]
     },
     "metadata": {
      "needs_background": "light"
     },
     "output_type": "display_data"
    }
   ],
   "source": [
    "for i, col in enumerate(['Gender', 'Profession', 'Customer Type']):\n",
    "    plt.figure(i)\n",
    "    sns.catplot(x=col, y='Claim', data=Auto_cat, kind='point', aspect=2,)\n",
    "    \n",
    "# визуализируем зависимость вероятности получения положительного решения от признаков"
   ]
  },
  {
   "cell_type": "code",
   "execution_count": 28,
   "id": "bca3a8f2",
   "metadata": {},
   "outputs": [
    {
     "data": {
      "text/plain": [
       "<Figure size 432x288 with 0 Axes>"
      ]
     },
     "metadata": {},
     "output_type": "display_data"
    },
    {
     "data": {
      "image/png": "[encoded data removed]",
      "text/plain": [
       "<Figure size 720x360 with 1 Axes>"
      ]
     },
     "metadata": {
      "needs_background": "light"
     },
     "output_type": "display_data"
    },
    {
     "data": {
      "image/png": "[encoded data removed]",
      "text/plain": [
       "<Figure size 720x360 with 1 Axes>"
      ]
     },
     "metadata": {
      "needs_background": "light"
     },
     "output_type": "display_data"
    },
    {
     "data": {
      "image/png": "[encoded data removed]",
      "text/plain": [
       "<Figure size 720x360 with 1 Axes>"
      ]
     },
     "metadata": {
      "needs_background": "light"
     },
     "output_type": "display_data"
    },
    {
     "data": {
      "image/png": "[encoded data removed]",
      "text/plain": [
       "<Figure size 720x360 with 1 Axes>"
      ]
     },
     "metadata": {
      "needs_background": "light"
     },
     "output_type": "display_data"
    }
   ],
   "source": [
    "for i, col in enumerate(['Multiple cars', 'Car category', 'Gearbox', 'Fuel']):\n",
    "    plt.figure(i)\n",
    "    sns.catplot(x=col, y='Claim', data=Auto_cat, kind='point', aspect=2,)"
   ]
  },
  {
   "cell_type": "markdown",
   "id": "6fa76842",
   "metadata": {},
   "source": [
    "наиболее весомыми категориальными признаками по итогам визуализации являются: Gender, Car category"
   ]
  },
  {
   "cell_type": "markdown",
   "id": "fee55315",
   "metadata": {},
   "source": [
    "# Предсказания"
   ]
  },
  {
   "cell_type": "code",
   "execution_count": 29,
   "id": "bcec4089",
   "metadata": {},
   "outputs": [
    {
     "name": "stderr",
     "output_type": "stream",
     "text": [
      "C:\\Users\\79165\\anaconda3\\lib\\site-packages\\seaborn\\_decorators.py:36: FutureWarning: Pass the following variable as a keyword arg: x. From version 0.12, the only valid positional argument will be `data`, and passing other arguments without an explicit keyword will result in an error or misinterpretation.\n",
      "  warnings.warn(\n"
     ]
    },
    {
     "data": {
      "text/plain": [
       "<AxesSubplot:xlabel='Claim', ylabel='count'>"
      ]
     },
     "execution_count": 29,
     "metadata": {},
     "output_type": "execute_result"
    },
    {
     "data": {
      "image/png": "[encoded data removed]",
      "text/plain": [
       "<Figure size 432x288 with 1 Axes>"
      ]
     },
     "metadata": {
      "needs_background": "light"
     },
     "output_type": "display_data"
    }
   ],
   "source": [
    "sns.countplot(AutoInsuranceRisk['Claim'], x='Claim')\n",
    "# учитывая, что категории по таргету Claim не сбалансированы, качественные результаты предсказаний получить сложно\n",
    "# вероятно, все предсказанные решения будут отрицательными"
   ]
  },
  {
   "cell_type": "markdown",
   "id": "58fbeb49",
   "metadata": {},
   "source": [
    "## Разделение выборок"
   ]
  },
  {
   "cell_type": "code",
   "execution_count": 30,
   "id": "c23a2867",
   "metadata": {},
   "outputs": [
    {
     "data": {
      "text/html": [
       "<div>\n",
       "<style scoped>\n",
       "    .dataframe tbody tr th:only-of-type {\n",
       "        vertical-align: middle;\n",
       "    }\n",
       "\n",
       "    .dataframe tbody tr th {\n",
       "        vertical-align: top;\n",
       "    }\n",
       "\n",
       "    .dataframe thead th {\n",
       "        text-align: right;\n",
       "    }\n",
       "</style>\n",
       "<table border=\"1\" class=\"dataframe\">\n",
       "  <thead>\n",
       "    <tr style=\"text-align: right;\">\n",
       "      <th></th>\n",
       "      <th>Age</th>\n",
       "      <th>Gender</th>\n",
       "      <th>Children</th>\n",
       "      <th>Car category</th>\n",
       "      <th>Claim</th>\n",
       "    </tr>\n",
       "  </thead>\n",
       "  <tbody>\n",
       "    <tr>\n",
       "      <th>0</th>\n",
       "      <td>44</td>\n",
       "      <td>0</td>\n",
       "      <td>4</td>\n",
       "      <td>0.094122</td>\n",
       "      <td>0</td>\n",
       "    </tr>\n",
       "    <tr>\n",
       "      <th>1</th>\n",
       "      <td>21</td>\n",
       "      <td>0</td>\n",
       "      <td>0</td>\n",
       "      <td>0.052058</td>\n",
       "      <td>0</td>\n",
       "    </tr>\n",
       "    <tr>\n",
       "      <th>2</th>\n",
       "      <td>76</td>\n",
       "      <td>0</td>\n",
       "      <td>1</td>\n",
       "      <td>0.052058</td>\n",
       "      <td>0</td>\n",
       "    </tr>\n",
       "    <tr>\n",
       "      <th>3</th>\n",
       "      <td>29</td>\n",
       "      <td>0</td>\n",
       "      <td>4</td>\n",
       "      <td>0.094122</td>\n",
       "      <td>0</td>\n",
       "    </tr>\n",
       "    <tr>\n",
       "      <th>4</th>\n",
       "      <td>44</td>\n",
       "      <td>1</td>\n",
       "      <td>0</td>\n",
       "      <td>0.052058</td>\n",
       "      <td>0</td>\n",
       "    </tr>\n",
       "  </tbody>\n",
       "</table>\n",
       "</div>"
      ],
      "text/plain": [
       "   Age  Gender  Children  Car category  Claim\n",
       "0   44       0         4      0.094122      0\n",
       "1   21       0         0      0.052058      0\n",
       "2   76       0         1      0.052058      0\n",
       "3   29       0         4      0.094122      0\n",
       "4   44       1         0      0.052058      0"
      ]
     },
     "execution_count": 30,
     "metadata": {},
     "output_type": "execute_result"
    }
   ],
   "source": [
    "Auto = AutoInsuranceRisk[['Age', 'Gender', 'Children', 'Car category', 'Claim']]\n",
    "Auto.head()\n",
    "# для проведения дальнейших манипуляций, оставляем только наиболее весомые признаки"
   ]
  },
  {
   "cell_type": "code",
   "execution_count": 31,
   "id": "4d48b529",
   "metadata": {},
   "outputs": [
    {
     "name": "stdout",
     "output_type": "stream",
     "text": [
      "0.8\n",
      "0.2\n"
     ]
    }
   ],
   "source": [
    "features = Auto.drop('Claim', axis=1)\n",
    "labels = Auto['Claim']\n",
    "\n",
    "train_features, test_features, train_labels, test_labels = train_test_split(\n",
    "    features, labels, test_size=0.2, random_state=42)\n",
    "\n",
    "for data in [train_labels, test_labels]:\n",
    "    print(round(len(data) / len(labels), 2))\n",
    "    \n",
    "# разделили выборки на тренировочную и тестовую в пропорции 80 на 20"
   ]
  },
  {
   "cell_type": "markdown",
   "id": "854d3a06",
   "metadata": {},
   "source": [
    "## Cross Validation, RandomForest"
   ]
  },
  {
   "cell_type": "code",
   "execution_count": 32,
   "id": "2f865092",
   "metadata": {},
   "outputs": [
    {
     "data": {
      "text/plain": [
       "array([0.87765957, 0.8851711 , 0.8608365 , 0.8851711 , 0.88593156])"
      ]
     },
     "execution_count": 32,
     "metadata": {},
     "output_type": "execute_result"
    }
   ],
   "source": [
    "rf = RandomForestClassifier()\n",
    "scores = cross_val_score(rf, train_features, train_labels.values.ravel(), cv=5)\n",
    "scores\n",
    "# разбивает данные на 5 секций, проводим кросс валидацию с RandomForest"
   ]
  },
  {
   "cell_type": "code",
   "execution_count": 33,
   "id": "c423d3cf",
   "metadata": {},
   "outputs": [
    {
     "data": {
      "text/plain": [
       "GridSearchCV(cv=5, estimator=RandomForestClassifier(),\n",
       "             param_grid={'max_depth': [4, 8, 16, None],\n",
       "                         'n_estimators': [5, 25, 50, 100]})"
      ]
     },
     "execution_count": 33,
     "metadata": {},
     "output_type": "execute_result"
    }
   ],
   "source": [
    "hyperparams = {\n",
    "    'n_estimators': [5, 25, 50, 100],\n",
    "    'max_depth': [4, 8, 16, None]\n",
    "}\n",
    "\n",
    "cross_val = GridSearchCV(rf, hyperparams, cv=5)\n",
    "cross_val.fit(train_features, train_labels.values.ravel())\n",
    "\n",
    "# подбираем оптимальные значения гиперпараметров"
   ]
  },
  {
   "cell_type": "code",
   "execution_count": 34,
   "id": "ac1dac06",
   "metadata": {},
   "outputs": [],
   "source": [
    "def results(results):\n",
    "    print('Optimal Hyperparams: {}\\n'.format(results.best_params_))\n",
    "    means = results.cv_results_['mean_test_score']\n",
    "    stds = results.cv_results_['std_test_score']\n",
    "    \n",
    "    for mean, std, params in zip(means, stds, results.cv_results_['params']):\n",
    "        print('Mean {} Standard Deviation {} Hyperparameters {}'.format(round(mean,3), round(std * 2, 3), params))"
   ]
  },
  {
   "cell_type": "code",
   "execution_count": 35,
   "id": "63f4493b",
   "metadata": {},
   "outputs": [
    {
     "name": "stdout",
     "output_type": "stream",
     "text": [
      "Optimal Hyperparams: {'max_depth': 4, 'n_estimators': 25}\n",
      "\n",
      "Mean 0.906 Standard Deviation 0.002 Hyperparameters {'max_depth': 4, 'n_estimators': 5}\n",
      "Mean 0.907 Standard Deviation 0.001 Hyperparameters {'max_depth': 4, 'n_estimators': 25}\n",
      "Mean 0.907 Standard Deviation 0.001 Hyperparameters {'max_depth': 4, 'n_estimators': 50}\n",
      "Mean 0.907 Standard Deviation 0.001 Hyperparameters {'max_depth': 4, 'n_estimators': 100}\n",
      "Mean 0.9 Standard Deviation 0.008 Hyperparameters {'max_depth': 8, 'n_estimators': 5}\n",
      "Mean 0.902 Standard Deviation 0.007 Hyperparameters {'max_depth': 8, 'n_estimators': 25}\n",
      "Mean 0.903 Standard Deviation 0.007 Hyperparameters {'max_depth': 8, 'n_estimators': 50}\n",
      "Mean 0.903 Standard Deviation 0.007 Hyperparameters {'max_depth': 8, 'n_estimators': 100}\n",
      "Mean 0.876 Standard Deviation 0.01 Hyperparameters {'max_depth': 16, 'n_estimators': 5}\n",
      "Mean 0.877 Standard Deviation 0.011 Hyperparameters {'max_depth': 16, 'n_estimators': 25}\n",
      "Mean 0.881 Standard Deviation 0.015 Hyperparameters {'max_depth': 16, 'n_estimators': 50}\n",
      "Mean 0.882 Standard Deviation 0.009 Hyperparameters {'max_depth': 16, 'n_estimators': 100}\n",
      "Mean 0.873 Standard Deviation 0.017 Hyperparameters {'max_depth': None, 'n_estimators': 5}\n",
      "Mean 0.879 Standard Deviation 0.015 Hyperparameters {'max_depth': None, 'n_estimators': 25}\n",
      "Mean 0.878 Standard Deviation 0.013 Hyperparameters {'max_depth': None, 'n_estimators': 50}\n",
      "Mean 0.881 Standard Deviation 0.015 Hyperparameters {'max_depth': None, 'n_estimators': 100}\n"
     ]
    }
   ],
   "source": [
    "results(cross_val)"
   ]
  },
  {
   "cell_type": "code",
   "execution_count": 36,
   "id": "8d925668",
   "metadata": {},
   "outputs": [
    {
     "data": {
      "text/plain": [
       "RandomForestClassifier(max_depth=4, n_estimators=25)"
      ]
     },
     "execution_count": 36,
     "metadata": {},
     "output_type": "execute_result"
    }
   ],
   "source": [
    "rf1 = RandomForestClassifier(n_estimators=25, max_depth=4)\n",
    "rf1.fit(train_features, train_labels.values.ravel())"
   ]
  },
  {
   "cell_type": "code",
   "execution_count": 37,
   "id": "b241a06a",
   "metadata": {},
   "outputs": [
    {
     "name": "stdout",
     "output_type": "stream",
     "text": [
      "Max Depth: 4 || Estimators: 25 || Accuracy: 0.913 || Precision: 0.0 || Recall: 0.0\n"
     ]
    },
    {
     "name": "stderr",
     "output_type": "stream",
     "text": [
      "C:\\Users\\79165\\anaconda3\\lib\\site-packages\\sklearn\\metrics\\_classification.py:1248: UndefinedMetricWarning: Precision is ill-defined and being set to 0.0 due to no predicted samples. Use `zero_division` parameter to control this behavior.\n",
      "  _warn_prf(average, modifier, msg_start, len(result))\n"
     ]
    }
   ],
   "source": [
    "y_pred = rf1.predict(test_features)\n",
    "accuracy = round(accuracy_score(test_labels, y_pred), 3)\n",
    "precision = round(precision_score(test_labels, y_pred), 3)\n",
    "recall = round(recall_score(test_labels, y_pred), 3)\n",
    "\n",
    "print('Max Depth: {} || Estimators: {} || Accuracy: {} || Precision: {} || Recall: {}'.format(rf1.max_depth,\n",
    "                                                                                                rf1.n_estimators,\n",
    "                                                                                                accuracy,\n",
    "                                                                                                precision,\n",
    "                                                                                                recall))\n",
    "# предупреждение возникает из-за отсутствия положительных ответов в предсказании\n",
    "# Модель предсказывает исключительно Claim = No"
   ]
  },
  {
   "cell_type": "markdown",
   "id": "224a4387",
   "metadata": {},
   "source": [
    "## LogisticRegression"
   ]
  },
  {
   "cell_type": "code",
   "execution_count": 38,
   "id": "4731ea0b",
   "metadata": {},
   "outputs": [],
   "source": [
    "log_reg = LogisticRegression()"
   ]
  },
  {
   "cell_type": "code",
   "execution_count": 39,
   "id": "90368cfe",
   "metadata": {},
   "outputs": [
    {
     "data": {
      "text/plain": [
       "LogisticRegression()"
      ]
     },
     "execution_count": 39,
     "metadata": {},
     "output_type": "execute_result"
    }
   ],
   "source": [
    "log_reg.fit(train_features, train_labels)"
   ]
  },
  {
   "cell_type": "code",
   "execution_count": 40,
   "id": "8c5168ff",
   "metadata": {},
   "outputs": [
    {
     "data": {
      "text/plain": [
       "0.9130699088145897"
      ]
     },
     "execution_count": 40,
     "metadata": {},
     "output_type": "execute_result"
    }
   ],
   "source": [
    "log_reg.score(test_features, test_labels)\n",
    "# вероятность правильного предсказания"
   ]
  },
  {
   "cell_type": "code",
   "execution_count": 41,
   "id": "b0a2d29a",
   "metadata": {},
   "outputs": [
    {
     "name": "stdout",
     "output_type": "stream",
     "text": [
      "да 0\n",
      "нет 1645\n"
     ]
    }
   ],
   "source": [
    "сlaim = log_reg.predict(test_features)\n",
    "print(\"да\", sum(сlaim != 0))\n",
    "print(\"нет\", sum(сlaim == 0))\n",
    "\n",
    "# Логистическая регрессия также предсказывает исключительно Claim = No"
   ]
  },
  {
   "cell_type": "code",
   "execution_count": 42,
   "id": "7d323222",
   "metadata": {},
   "outputs": [
    {
     "data": {
      "text/plain": [
       "array([[1502,    0],\n",
       "       [ 143,    0]], dtype=int64)"
      ]
     },
     "execution_count": 42,
     "metadata": {},
     "output_type": "execute_result"
    },
    {
     "data": {
      "image/png": "[encoded data removed]",
      "text/plain": [
       "<Figure size 432x288 with 2 Axes>"
      ]
     },
     "metadata": {
      "needs_background": "light"
     },
     "output_type": "display_data"
    }
   ],
   "source": [
    "conf_mx = confusion_matrix(test_labels, сlaim)\n",
    "\n",
    "sns.heatmap(conf_mx, annot=True, fmt='4.0f', cmap='crest')\n",
    "plt.title('confusion matrix', size=12)\n",
    "plt.ylabel('Actual')\n",
    "plt.xlabel('Predicted')\n",
    "conf_mx\n",
    "\n",
    "# Confusion Matrix\n",
    "# TN = 1502\n",
    "# FP = 0 (Type 1 err)\n",
    "# FN = 143 (Type 2 err)\n",
    "# TP = 0"
   ]
  },
  {
   "cell_type": "markdown",
   "id": "e25324c1",
   "metadata": {},
   "source": [
    "## KNeighbors"
   ]
  },
  {
   "cell_type": "code",
   "execution_count": 43,
   "id": "3c06a417",
   "metadata": {},
   "outputs": [],
   "source": [
    "k_range = range(1, 15)\n",
    "scores = {}\n",
    "scores_list = []\n",
    "for k in k_range:\n",
    "    knn = KNeighborsClassifier(n_neighbors=k)\n",
    "    knn.fit(train_features,train_labels)\n",
    "    pred_labels=knn.predict(test_features)\n",
    "    scores[k] = metrics.accuracy_score(test_labels, pred_labels)\n",
    "    scores_list.append(metrics.accuracy_score(test_labels, pred_labels))"
   ]
  },
  {
   "cell_type": "code",
   "execution_count": 44,
   "id": "99d0e528",
   "metadata": {},
   "outputs": [
    {
     "data": {
      "text/plain": [
       "{1: 0.8358662613981763,\n",
       " 2: 0.902127659574468,\n",
       " 3: 0.888145896656535,\n",
       " 4: 0.9106382978723404,\n",
       " 5: 0.9045592705167174,\n",
       " 6: 0.9094224924012158,\n",
       " 7: 0.9082066869300912,\n",
       " 8: 0.9094224924012158,\n",
       " 9: 0.9082066869300912,\n",
       " 10: 0.9130699088145897,\n",
       " 11: 0.9130699088145897,\n",
       " 12: 0.9130699088145897,\n",
       " 13: 0.9130699088145897,\n",
       " 14: 0.9130699088145897}"
      ]
     },
     "execution_count": 44,
     "metadata": {},
     "output_type": "execute_result"
    }
   ],
   "source": [
    "scores"
   ]
  },
  {
   "cell_type": "code",
   "execution_count": 45,
   "id": "2b168c24",
   "metadata": {},
   "outputs": [
    {
     "data": {
      "text/plain": [
       "Text(0, 0.5, 'Accuracy')"
      ]
     },
     "execution_count": 45,
     "metadata": {},
     "output_type": "execute_result"
    },
    {
     "data": {
      "image/png": "[encoded data removed]",
      "text/plain": [
       "<Figure size 432x288 with 1 Axes>"
      ]
     },
     "metadata": {
      "needs_background": "light"
     },
     "output_type": "display_data"
    }
   ],
   "source": [
    "plt.plot(k_range, scores_list)\n",
    "plt.xlabel('Number of k')\n",
    "plt.ylabel('Accuracy')"
   ]
  },
  {
   "cell_type": "code",
   "execution_count": 46,
   "id": "65216308",
   "metadata": {},
   "outputs": [
    {
     "data": {
      "text/plain": [
       "KNeighborsClassifier(n_neighbors=11)"
      ]
     },
     "execution_count": 46,
     "metadata": {},
     "output_type": "execute_result"
    }
   ],
   "source": [
    "knn = KNeighborsClassifier(n_neighbors=11)\n",
    "knn.fit(train_features,train_labels)"
   ]
  },
  {
   "attachments": {},
   "cell_type": "markdown",
   "id": "4ee79560",
   "metadata": {},
   "source": [
    "# Оценка вероятности страхового случая для 40-летнего мужчины без детей на SUV"
   ]
  },
  {
   "cell_type": "code",
   "execution_count": 48,
   "id": "ff89fc63",
   "metadata": {},
   "outputs": [
    {
     "data": {
      "text/html": [
       "<div>\n",
       "<style scoped>\n",
       "    .dataframe tbody tr th:only-of-type {\n",
       "        vertical-align: middle;\n",
       "    }\n",
       "\n",
       "    .dataframe tbody tr th {\n",
       "        vertical-align: top;\n",
       "    }\n",
       "\n",
       "    .dataframe thead th {\n",
       "        text-align: right;\n",
       "    }\n",
       "</style>\n",
       "<table border=\"1\" class=\"dataframe\">\n",
       "  <thead>\n",
       "    <tr style=\"text-align: right;\">\n",
       "      <th></th>\n",
       "      <th>Age</th>\n",
       "      <th>Gender</th>\n",
       "      <th>Children</th>\n",
       "      <th>Car category</th>\n",
       "    </tr>\n",
       "  </thead>\n",
       "  <tbody>\n",
       "    <tr>\n",
       "      <th>0</th>\n",
       "      <td>40</td>\n",
       "      <td>1</td>\n",
       "      <td>0</td>\n",
       "      <td>0.052058</td>\n",
       "    </tr>\n",
       "  </tbody>\n",
       "</table>\n",
       "</div>"
      ],
      "text/plain": [
       "   Age  Gender  Children  Car category\n",
       "0   40       1         0      0.052058"
      ]
     },
     "execution_count": 48,
     "metadata": {},
     "output_type": "execute_result"
    }
   ],
   "source": [
    "d = {'Age': 40, 'Gender': 1, 'Children': 0, 'Car category': 0.05205769}\n",
    "pred_features = pd.DataFrame(data=d, index=[0])\n",
    "pred_features\n",
    "\n",
    "# 40-летний мужчина, не имеющего детей, на машине типа SUV."
   ]
  },
  {
   "cell_type": "code",
   "execution_count": 50,
   "id": "7aa90857",
   "metadata": {},
   "outputs": [
    {
     "data": {
      "text/plain": [
       "0.13156229535265343"
      ]
     },
     "execution_count": 50,
     "metadata": {},
     "output_type": "execute_result"
    }
   ],
   "source": [
    "likelihood_estimate_rf = rf1.predict_proba(pred_features)\n",
    "probability_of_claim_rf = likelihood_estimate_rf[0][1]\n",
    "probability_of_claim_rf"
   ]
  },
  {
   "cell_type": "code",
   "execution_count": 51,
   "id": "57d169e0",
   "metadata": {},
   "outputs": [
    {
     "data": {
      "text/plain": [
       "0.16858004163228746"
      ]
     },
     "execution_count": 51,
     "metadata": {},
     "output_type": "execute_result"
    }
   ],
   "source": [
    "likelihood_estimate_lr = log_reg.predict_proba(pred_features)\n",
    "probability_of_claim_lr = likelihood_estimate_lr[0][1]\n",
    "probability_of_claim_lr"
   ]
  },
  {
   "cell_type": "code",
   "execution_count": 52,
   "id": "c06e7a7b",
   "metadata": {},
   "outputs": [
    {
     "data": {
      "text/plain": [
       "0.18181818181818182"
      ]
     },
     "execution_count": 52,
     "metadata": {},
     "output_type": "execute_result"
    }
   ],
   "source": [
    "likelihood_estimate_knn = knn.predict_proba(pred_features)\n",
    "probability_of_claim_knn = likelihood_estimate_knn[0][1]\n",
    "probability_of_claim_knn"
   ]
  }
 ],
 "metadata": {
  "kernelspec": {
   "display_name": "Python 3 (ipykernel)",
   "language": "python",
   "name": "python3"
  },
  "language_info": {
   "codemirror_mode": {
    "name": "ipython",
    "version": 3
   },
   "file_extension": ".py",
   "mimetype": "text/x-python",
   "name": "python",
   "nbconvert_exporter": "python",
   "pygments_lexer": "ipython3",
   "version": "3.9.7"
  },
  "toc": {
   "base_numbering": 1,
   "nav_menu": {},
   "number_sections": true,
   "sideBar": true,
   "skip_h1_title": false,
   "title_cell": "Table of Contents",
   "title_sidebar": "Contents",
   "toc_cell": true,
   "toc_position": {},
   "toc_section_display": true,
   "toc_window_display": false
  }
 },
 "nbformat": 4,
 "nbformat_minor": 5
}
