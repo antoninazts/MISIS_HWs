{
 "cells": [
  {
   "cell_type": "markdown",
   "id": "d29a38d5",
   "metadata": {},
   "source": [
    "# Антонина Зацепина. МИВТ-23-9. ДЗ по numpy"
   ]
  },
  {
   "cell_type": "markdown",
   "id": "427eea78-404d-417d-85db-eff259d48342",
   "metadata": {},
   "source": [
    "# Задание 1"
   ]
  },
  {
   "cell_type": "code",
   "execution_count": null,
   "id": "0067758f",
   "metadata": {},
   "outputs": [],
   "source": [
    "Видео с восхищением просмотрены."
   ]
  },
  {
   "cell_type": "code",
   "execution_count": 2,
   "id": "07b9f578-a7b9-4f6b-96ac-dd81f138cef6",
   "metadata": {},
   "outputs": [],
   "source": [
    "import numpy as np"
   ]
  },
  {
   "cell_type": "markdown",
   "id": "79dd31b8",
   "metadata": {},
   "source": [
    "# Задание 2"
   ]
  },
  {
   "cell_type": "markdown",
   "id": "92bd5987",
   "metadata": {},
   "source": [
    "Список чисел: при наличие десятичного, все целые так же преобразуются в десятичные."
   ]
  },
  {
   "cell_type": "code",
   "execution_count": 27,
   "id": "fda45ffe-5234-41cc-88b4-ef2b7047d7de",
   "metadata": {
    "tags": []
   },
   "outputs": [
    {
     "data": {
      "text/plain": [
       "([1, 2.2, 0.33], array([1.  , 2.2 , 0.33]))"
      ]
     },
     "execution_count": 27,
     "metadata": {},
     "output_type": "execute_result"
    }
   ],
   "source": [
    "lst_of_nums = [1, 2.2, .33]\n",
    "nums_values = np.array(lst_of_nums)\n",
    "lst_of_nums, nums_values"
   ]
  },
  {
   "cell_type": "code",
   "execution_count": 28,
   "id": "328503c5-a921-4ff2-b8b8-b43de82124f5",
   "metadata": {
    "tags": []
   },
   "outputs": [
    {
     "data": {
      "text/plain": [
       "(list, numpy.ndarray)"
      ]
     },
     "execution_count": 28,
     "metadata": {},
     "output_type": "execute_result"
    }
   ],
   "source": [
    "type(lst_of_nums), type(nums_values)"
   ]
  },
  {
   "cell_type": "code",
   "execution_count": 29,
   "id": "13827c73-7145-4df9-986d-d435a2508e30",
   "metadata": {
    "tags": []
   },
   "outputs": [
    {
     "data": {
      "text/plain": [
       "dtype('float64')"
      ]
     },
     "execution_count": 29,
     "metadata": {},
     "output_type": "execute_result"
    }
   ],
   "source": [
    "nums_values.dtype"
   ]
  },
  {
   "cell_type": "markdown",
   "id": "256e98d0",
   "metadata": {},
   "source": [
    "Смешанный список: при наличие строкового значения, все преобразуются к str"
   ]
  },
  {
   "cell_type": "code",
   "execution_count": 30,
   "id": "8b18efc4",
   "metadata": {
    "tags": []
   },
   "outputs": [
    {
     "data": {
      "text/plain": [
       "(['1', 2.2, 0.33], array(['1', '2.2', '0.33'], dtype='<U32'))"
      ]
     },
     "execution_count": 30,
     "metadata": {},
     "output_type": "execute_result"
    }
   ],
   "source": [
    "lst_of_mix = [\"1\", 2.2, .33]\n",
    "str_values = np.array(lst_of_mix)\n",
    "lst_of_mix, str_values"
   ]
  },
  {
   "cell_type": "code",
   "execution_count": 31,
   "id": "ab426ff8",
   "metadata": {
    "tags": []
   },
   "outputs": [
    {
     "data": {
      "text/plain": [
       "(list, numpy.ndarray)"
      ]
     },
     "execution_count": 31,
     "metadata": {},
     "output_type": "execute_result"
    }
   ],
   "source": [
    "type(lst_of_mix), type(str_values)"
   ]
  },
  {
   "cell_type": "code",
   "execution_count": 32,
   "id": "bf1b18bf",
   "metadata": {
    "tags": []
   },
   "outputs": [
    {
     "data": {
      "text/plain": [
       "dtype('<U32')"
      ]
     },
     "execution_count": 32,
     "metadata": {},
     "output_type": "execute_result"
    }
   ],
   "source": [
    "str_values.dtype"
   ]
  },
  {
   "cell_type": "markdown",
   "id": "a3f8a9bf",
   "metadata": {},
   "source": [
    "Булевые значения"
   ]
  },
  {
   "cell_type": "code",
   "execution_count": 33,
   "id": "824ff983",
   "metadata": {
    "tags": []
   },
   "outputs": [
    {
     "data": {
      "text/plain": [
       "([1, True, 0, False], array([1, 1, 0, 0]))"
      ]
     },
     "execution_count": 33,
     "metadata": {},
     "output_type": "execute_result"
    }
   ],
   "source": [
    "lst_of_bools = [1, True, 0, False]\n",
    "bool_values = np.array(lst_of_bools)\n",
    "lst_of_bools, bool_values"
   ]
  },
  {
   "cell_type": "code",
   "execution_count": 34,
   "id": "e242a366",
   "metadata": {
    "tags": []
   },
   "outputs": [
    {
     "data": {
      "text/plain": [
       "(list, numpy.ndarray)"
      ]
     },
     "execution_count": 34,
     "metadata": {},
     "output_type": "execute_result"
    }
   ],
   "source": [
    "type(lst_of_bools), type(bool_values)"
   ]
  },
  {
   "cell_type": "code",
   "execution_count": 35,
   "id": "04789a5b",
   "metadata": {
    "tags": []
   },
   "outputs": [
    {
     "data": {
      "text/plain": [
       "dtype('int32')"
      ]
     },
     "execution_count": 35,
     "metadata": {},
     "output_type": "execute_result"
    }
   ],
   "source": [
    "bool_values.dtype"
   ]
  },
  {
   "cell_type": "markdown",
   "id": "174a8e57",
   "metadata": {},
   "source": [
    "# Задание 3"
   ]
  },
  {
   "cell_type": "code",
   "execution_count": 47,
   "id": "dc9588ca-f9d7-4e0c-9e25-bbb97ec2fd6c",
   "metadata": {
    "tags": []
   },
   "outputs": [
    {
     "data": {
      "text/plain": [
       "array([ 2,  4,  6,  8, 10, 12])"
      ]
     },
     "execution_count": 47,
     "metadata": {},
     "output_type": "execute_result"
    }
   ],
   "source": [
    "var1 = np.array([2, 4, 6, 8, 10, 12]) #явно\n",
    "var1"
   ]
  },
  {
   "cell_type": "code",
   "execution_count": 48,
   "id": "2dde27cd",
   "metadata": {},
   "outputs": [
    {
     "data": {
      "text/plain": [
       "array([ 2,  4,  6,  8, 10, 12])"
      ]
     },
     "execution_count": 48,
     "metadata": {},
     "output_type": "execute_result"
    }
   ],
   "source": [
    "var2 = np.arange(2, 13, 2) #начало, конец, шаг\n",
    "var2"
   ]
  },
  {
   "cell_type": "code",
   "execution_count": 49,
   "id": "e16fe220",
   "metadata": {},
   "outputs": [
    {
     "data": {
      "text/plain": [
       "array([ 2.,  4.,  6.,  8., 10., 12.])"
      ]
     },
     "execution_count": 49,
     "metadata": {},
     "output_type": "execute_result"
    }
   ],
   "source": [
    "var3 = np.linspace(2, 12, 6) #начало, конец, количество элементов\n",
    "var3"
   ]
  },
  {
   "cell_type": "markdown",
   "id": "c6d6e4ae",
   "metadata": {},
   "source": [
    "# Задание 4"
   ]
  },
  {
   "cell_type": "code",
   "execution_count": 51,
   "id": "b5aa73ae",
   "metadata": {},
   "outputs": [
    {
     "data": {
      "text/plain": [
       "array([[ 2,  4,  6],\n",
       "       [ 8, 10, 12]])"
      ]
     },
     "execution_count": 51,
     "metadata": {},
     "output_type": "execute_result"
    }
   ],
   "source": [
    "d2_var1 = var1.reshape(2, 3)\n",
    "d2_var1"
   ]
  },
  {
   "cell_type": "code",
   "execution_count": 52,
   "id": "9aab2820",
   "metadata": {},
   "outputs": [
    {
     "data": {
      "text/plain": [
       "array([[ 2,  4],\n",
       "       [ 6,  8],\n",
       "       [10, 12]])"
      ]
     },
     "execution_count": 52,
     "metadata": {},
     "output_type": "execute_result"
    }
   ],
   "source": [
    "d2_var2 = var2.reshape(3, 2)\n",
    "d2_var2"
   ]
  },
  {
   "cell_type": "code",
   "execution_count": 53,
   "id": "495d9078",
   "metadata": {},
   "outputs": [
    {
     "data": {
      "text/plain": [
       "array([[ 2.],\n",
       "       [ 4.],\n",
       "       [ 6.],\n",
       "       [ 8.],\n",
       "       [10.],\n",
       "       [12.]])"
      ]
     },
     "execution_count": 53,
     "metadata": {},
     "output_type": "execute_result"
    }
   ],
   "source": [
    "d2_var3 = var3.reshape(-1, 1)\n",
    "d2_var3"
   ]
  },
  {
   "cell_type": "markdown",
   "id": "976d2029",
   "metadata": {},
   "source": [
    "# Задание 5"
   ]
  },
  {
   "cell_type": "code",
   "execution_count": 55,
   "id": "996bcbf6",
   "metadata": {},
   "outputs": [
    {
     "data": {
      "text/plain": [
       "array([ 2. ,  4.2,  6.4,  8.6, 10.8])"
      ]
     },
     "execution_count": 55,
     "metadata": {},
     "output_type": "execute_result"
    }
   ],
   "source": [
    "var2 = np.arange(2, 13, 2.2) #начало, конец, шаг\n",
    "var2"
   ]
  },
  {
   "cell_type": "markdown",
   "id": "807a1404",
   "metadata": {},
   "source": [
    "# Задание 6"
   ]
  },
  {
   "cell_type": "code",
   "execution_count": 61,
   "id": "e4e0ea9f",
   "metadata": {},
   "outputs": [],
   "source": [
    "v1 = np.array([1, 2, 3])\n",
    "v2 = np.array([4, 5, 6])"
   ]
  },
  {
   "cell_type": "code",
   "execution_count": 62,
   "id": "e2168668",
   "metadata": {},
   "outputs": [
    {
     "data": {
      "text/plain": [
       "array([[1, 2, 3],\n",
       "       [4, 5, 6]])"
      ]
     },
     "execution_count": 62,
     "metadata": {},
     "output_type": "execute_result"
    }
   ],
   "source": [
    "np.vstack([v1, v2])"
   ]
  },
  {
   "cell_type": "code",
   "execution_count": 63,
   "id": "020bfca9",
   "metadata": {},
   "outputs": [
    {
     "data": {
      "text/plain": [
       "array([1, 2, 3, 4, 5, 6])"
      ]
     },
     "execution_count": 63,
     "metadata": {},
     "output_type": "execute_result"
    }
   ],
   "source": [
    "np.hstack([v1, v2])"
   ]
  },
  {
   "cell_type": "markdown",
   "id": "16a6dfed",
   "metadata": {},
   "source": [
    "# Задание 7"
   ]
  },
  {
   "cell_type": "code",
   "execution_count": 77,
   "id": "d172bb28",
   "metadata": {},
   "outputs": [
    {
     "data": {
      "text/plain": [
       "((2, 2, 5), (1, 2, 5))"
      ]
     },
     "execution_count": 77,
     "metadata": {},
     "output_type": "execute_result"
    }
   ],
   "source": [
    "a = np.fromiter(range(20), dtype='float').reshape(2,2,5)\n",
    "b = np.fromiter(range(20, 30), dtype='float').reshape(1,2,5)\n",
    "\n",
    "a.shape, b.shape"
   ]
  },
  {
   "cell_type": "code",
   "execution_count": 78,
   "id": "e2753ca7",
   "metadata": {},
   "outputs": [
    {
     "data": {
      "text/plain": [
       "(3, 2, 5)"
      ]
     },
     "execution_count": 78,
     "metadata": {},
     "output_type": "execute_result"
    }
   ],
   "source": [
    "np.vstack([a,b]).shape \n",
    "#vstack соединяет по первому измерению, остальные размерности векторов должны совпадать"
   ]
  },
  {
   "cell_type": "markdown",
   "id": "c7040a93",
   "metadata": {},
   "source": [
    "# Задание 8"
   ]
  },
  {
   "cell_type": "code",
   "execution_count": 79,
   "id": "02d3af11",
   "metadata": {},
   "outputs": [
    {
     "data": {
      "text/plain": [
       "array([-65.1625,  65.6125, -21.7375])"
      ]
     },
     "execution_count": 79,
     "metadata": {},
     "output_type": "execute_result"
    }
   ],
   "source": [
    "A = np.array([[1, 5, 8], [5, 7, 2], [4, 7, 9]])\n",
    "b = np.array([89, 90, 3])\n",
    "np.linalg.solve(A, b)"
   ]
  },
  {
   "cell_type": "code",
   "execution_count": 81,
   "id": "49f84e30",
   "metadata": {},
   "outputs": [
    {
     "data": {
      "text/plain": [
       "array([-65.1625,  65.6125, -21.7375])"
      ]
     },
     "execution_count": 81,
     "metadata": {},
     "output_type": "execute_result"
    }
   ],
   "source": [
    "np.linalg.inv(A) @ b "
   ]
  },
  {
   "cell_type": "markdown",
   "id": "7a6dd1f5",
   "metadata": {},
   "source": [
    "# Задание 9"
   ]
  },
  {
   "cell_type": "code",
   "execution_count": 3,
   "id": "423b80ba",
   "metadata": {},
   "outputs": [
    {
     "data": {
      "text/plain": [
       "array([1, 2, 3, 4])"
      ]
     },
     "execution_count": 3,
     "metadata": {},
     "output_type": "execute_result"
    }
   ],
   "source": [
    "for_types = np.array([1, 2, 3, 4])\n",
    "for_types"
   ]
  },
  {
   "cell_type": "code",
   "execution_count": 8,
   "id": "ef1d8568",
   "metadata": {},
   "outputs": [
    {
     "data": {
      "text/plain": [
       "array([1., 2., 3., 4.], dtype=float16)"
      ]
     },
     "execution_count": 8,
     "metadata": {},
     "output_type": "execute_result"
    }
   ],
   "source": [
    "type1 = np.array(for_types, dtype=np.float16)\n",
    "type1"
   ]
  },
  {
   "cell_type": "code",
   "execution_count": 9,
   "id": "ab887722",
   "metadata": {},
   "outputs": [
    {
     "data": {
      "text/plain": [
       "array([1., 2., 3., 4.], dtype=float32)"
      ]
     },
     "execution_count": 9,
     "metadata": {},
     "output_type": "execute_result"
    }
   ],
   "source": [
    "type2 = np.array(for_types, dtype='float32')\n",
    "type2"
   ]
  },
  {
   "cell_type": "code",
   "execution_count": 11,
   "id": "c8bdc862",
   "metadata": {},
   "outputs": [
    {
     "data": {
      "text/plain": [
       "array(['1', '2', '3', '4'], dtype='<U11')"
      ]
     },
     "execution_count": 11,
     "metadata": {},
     "output_type": "execute_result"
    }
   ],
   "source": [
    "type3 = np.array(for_types, dtype='str_')\n",
    "type3"
   ]
  },
  {
   "cell_type": "markdown",
   "id": "af3e4198",
   "metadata": {},
   "source": [
    "# Задание 10"
   ]
  },
  {
   "cell_type": "code",
   "execution_count": 19,
   "id": "bb8c7553",
   "metadata": {},
   "outputs": [
    {
     "data": {
      "text/plain": [
       "(8, 2, 1)"
      ]
     },
     "execution_count": 19,
     "metadata": {},
     "output_type": "execute_result"
    }
   ],
   "source": [
    "x = np.arange(16).reshape((8,2,1))\n",
    "x.shape"
   ]
  },
  {
   "cell_type": "code",
   "execution_count": 20,
   "id": "7a844d0d",
   "metadata": {},
   "outputs": [
    {
     "data": {
      "text/plain": [
       "(8, 2)"
      ]
     },
     "execution_count": 20,
     "metadata": {},
     "output_type": "execute_result"
    }
   ],
   "source": [
    "x.squeeze().shape #выпихивает единичные измерния"
   ]
  },
  {
   "cell_type": "markdown",
   "id": "f662b0f1",
   "metadata": {},
   "source": [
    "# Задание 11"
   ]
  },
  {
   "cell_type": "code",
   "execution_count": 49,
   "id": "74f6c182",
   "metadata": {},
   "outputs": [
    {
     "data": {
      "text/plain": [
       "(4, 3, 2)"
      ]
     },
     "execution_count": 49,
     "metadata": {},
     "output_type": "execute_result"
    }
   ],
   "source": [
    "x3 = np.arange(24).reshape((4,3,2))\n",
    "x3.shape"
   ]
  },
  {
   "cell_type": "code",
   "execution_count": 50,
   "id": "4ed0e140",
   "metadata": {},
   "outputs": [
    {
     "data": {
      "text/plain": [
       "(1, 4, 3, 1, 2)"
      ]
     },
     "execution_count": 50,
     "metadata": {},
     "output_type": "execute_result"
    }
   ],
   "source": [
    "x5 = x3[np.newaxis, :, :, None, :]\n",
    "x5.shape"
   ]
  },
  {
   "cell_type": "code",
   "execution_count": 51,
   "id": "41301a19",
   "metadata": {},
   "outputs": [
    {
     "data": {
      "text/plain": [
       "(1, 4, 3, 1, 2, 1)"
      ]
     },
     "execution_count": 51,
     "metadata": {},
     "output_type": "execute_result"
    }
   ],
   "source": [
    "x6 = np.expand_dims(x5, axis=5)\n",
    "x6.shape"
   ]
  },
  {
   "cell_type": "markdown",
   "id": "6f1dcdcf",
   "metadata": {},
   "source": [
    "# Задание 12"
   ]
  },
  {
   "cell_type": "code",
   "execution_count": 52,
   "id": "d87b2fa2",
   "metadata": {},
   "outputs": [],
   "source": [
    "A = np.array([[1, 5, 8], [5, 7, 2], [4, 7, 9]])\n",
    "B = np.array([[6, 4, 3], [2, 3, 7], [4, 2, 1]])"
   ]
  },
  {
   "cell_type": "code",
   "execution_count": 53,
   "id": "45eccc89",
   "metadata": {},
   "outputs": [
    {
     "data": {
      "text/plain": [
       "array([[ 2, 10, 16],\n",
       "       [10, 14,  4],\n",
       "       [ 8, 14, 18]])"
      ]
     },
     "execution_count": 53,
     "metadata": {},
     "output_type": "execute_result"
    }
   ],
   "source": [
    "A2 = A*2\n",
    "A2"
   ]
  },
  {
   "cell_type": "code",
   "execution_count": 54,
   "id": "0a02728f",
   "metadata": {},
   "outputs": [
    {
     "data": {
      "text/plain": [
       "array([[ 7,  9, 11],\n",
       "       [ 7, 10,  9],\n",
       "       [ 8,  9, 10]])"
      ]
     },
     "execution_count": 54,
     "metadata": {},
     "output_type": "execute_result"
    }
   ],
   "source": [
    "C = A + B\n",
    "C"
   ]
  },
  {
   "cell_type": "code",
   "execution_count": 55,
   "id": "b7e8a875",
   "metadata": {},
   "outputs": [
    {
     "data": {
      "text/plain": [
       "array([[ 6, 20, 24],\n",
       "       [10, 21, 14],\n",
       "       [16, 14,  9]])"
      ]
     },
     "execution_count": 55,
     "metadata": {},
     "output_type": "execute_result"
    }
   ],
   "source": [
    "C1 = A*B #поточечное умножение\n",
    "C1"
   ]
  },
  {
   "cell_type": "code",
   "execution_count": 56,
   "id": "e785f8d7",
   "metadata": {},
   "outputs": [
    {
     "data": {
      "text/plain": [
       "array([[48, 35, 46],\n",
       "       [52, 45, 66],\n",
       "       [74, 55, 70]])"
      ]
     },
     "execution_count": 56,
     "metadata": {},
     "output_type": "execute_result"
    }
   ],
   "source": [
    "C2 = A@B #умножение здорового человека\n",
    "C2"
   ]
  },
  {
   "cell_type": "code",
   "execution_count": 60,
   "id": "34887c76",
   "metadata": {},
   "outputs": [
    {
     "data": {
      "text/plain": [
       "array([[35],\n",
       "       [25],\n",
       "       [45]])"
      ]
     },
     "execution_count": 60,
     "metadata": {},
     "output_type": "execute_result"
    }
   ],
   "source": [
    "b = np.array([1, 2, 3]).reshape(-1, 1)\n",
    "C3 = A@b\n",
    "C3"
   ]
  },
  {
   "cell_type": "markdown",
   "id": "939428f6",
   "metadata": {},
   "source": [
    "# Задание 13"
   ]
  },
  {
   "cell_type": "code",
   "execution_count": 82,
   "id": "6a78fb74",
   "metadata": {},
   "outputs": [],
   "source": [
    "def matrix_multiplication(A: np.array, B: np.array):\n",
    "    C = np.zeros((A.shape[0], B.shape[1]))\n",
    "    if A.shape[1] != B.shape[0]:\n",
    "        print(\"Количество столбцов в первой матрице не совпадает с количеством строк во второй - умножение невозможно.\")\n",
    "    else:\n",
    "        for n in range(A.shape[0]):\n",
    "            for k in range(B.shape[1]):\n",
    "                for m in range(A.shape[1]):\n",
    "                    C[n][k] += A[n][m]*B[m][k]\n",
    "    return C"
   ]
  },
  {
   "cell_type": "code",
   "execution_count": 86,
   "id": "a606ad96",
   "metadata": {},
   "outputs": [
    {
     "data": {
      "text/plain": [
       "array([[22., 28.],\n",
       "       [49., 64.]])"
      ]
     },
     "execution_count": 86,
     "metadata": {},
     "output_type": "execute_result"
    }
   ],
   "source": [
    "A = np.array([[1, 2, 3], [4, 5, 6]])\n",
    "B = np.array([[1, 2], [3, 4], [5, 6]])\n",
    "C = matrix_multiplication(A, B)\n",
    "C             "
   ]
  },
  {
   "cell_type": "code",
   "execution_count": 81,
   "id": "2df8ae50",
   "metadata": {},
   "outputs": [
    {
     "data": {
      "text/plain": [
       "array([[22, 28],\n",
       "       [49, 64]])"
      ]
     },
     "execution_count": 81,
     "metadata": {},
     "output_type": "execute_result"
    }
   ],
   "source": [
    "A = np.array([[1, 2, 3], [4, 5, 6]])\n",
    "B = np.array([[1, 2], [3, 4], [5, 6]])\n",
    "C = A@B\n",
    "C "
   ]
  },
  {
   "cell_type": "markdown",
   "id": "11d8b722",
   "metadata": {},
   "source": [
    "# Задание 14"
   ]
  },
  {
   "cell_type": "code",
   "execution_count": 87,
   "id": "3bcccfcd",
   "metadata": {},
   "outputs": [
    {
     "name": "stdout",
     "output_type": "stream",
     "text": [
      "21.1 µs ± 2.61 µs per loop (mean ± std. dev. of 7 runs, 10000 loops each)\n"
     ]
    }
   ],
   "source": [
    "%%timeit\n",
    "A = np.array([[1, 2, 3], [4, 5, 6]])\n",
    "B = np.array([[1, 2], [3, 4], [5, 6]])\n",
    "C = matrix_multiplication(A, B)\n",
    "C             "
   ]
  },
  {
   "cell_type": "code",
   "execution_count": 88,
   "id": "07af1e5c",
   "metadata": {},
   "outputs": [
    {
     "name": "stdout",
     "output_type": "stream",
     "text": [
      "5.88 µs ± 349 ns per loop (mean ± std. dev. of 7 runs, 100000 loops each)\n"
     ]
    }
   ],
   "source": [
    "%%timeit\n",
    "A = np.array([[1, 2, 3], [4, 5, 6]])\n",
    "B = np.array([[1, 2], [3, 4], [5, 6]])\n",
    "C = A@B\n",
    "C "
   ]
  },
  {
   "cell_type": "code",
   "execution_count": null,
   "id": "6b97a862",
   "metadata": {},
   "outputs": [],
   "source": [
    "# встроенный метод в ~4 раза быстрее, т.к. написан вероятно на С++"
   ]
  },
  {
   "cell_type": "markdown",
   "id": "8fc2fe15",
   "metadata": {},
   "source": [
    "# Задание 15"
   ]
  },
  {
   "cell_type": "code",
   "execution_count": 93,
   "id": "6647af42",
   "metadata": {},
   "outputs": [
    {
     "data": {
      "text/plain": [
       "array([ 4, -3])"
      ]
     },
     "execution_count": 93,
     "metadata": {},
     "output_type": "execute_result"
    }
   ],
   "source": [
    "v1 = np.array([3, 2]) # был вектор с координатами (3,2)\n",
    "m1 = np.array([[0, 2], [-1, 0]]) # плоскость повернули на 90 по часовой и растянули в 2 раза по оси х (i(0, -1), j(2, 0))\n",
    "v1_rez = m1@v1 # трансформировали вектор\n",
    "v1_rez"
   ]
  },
  {
   "cell_type": "code",
   "execution_count": 94,
   "id": "c209fb25",
   "metadata": {},
   "outputs": [
    {
     "data": {
      "text/plain": [
       "array([2, 4, 3])"
      ]
     },
     "execution_count": 94,
     "metadata": {},
     "output_type": "execute_result"
    }
   ],
   "source": [
    "v2 = np.array([2, 1, 3])\n",
    "m2 = np.array([[1, 0, 0], [0, 1, 1], [0, 0, 1]]) # у коробочки съехала крыша на 1 по у\n",
    "v2_rez = m2@v2\n",
    "v2_rez"
   ]
  },
  {
   "cell_type": "code",
   "execution_count": 95,
   "id": "d90ab831",
   "metadata": {},
   "outputs": [
    {
     "data": {
      "text/plain": [
       "array([ 1, 10])"
      ]
     },
     "execution_count": 95,
     "metadata": {},
     "output_type": "execute_result"
    }
   ],
   "source": [
    "v3 = np.array([1, 1])\n",
    "m3 = np.array([[1, 0], [0, 3]]) # выросли на 3 по y\n",
    "m4 = np.array([[1, 0], [1, 3]]) # подняли i в (1, 1)\n",
    "v3_rez = m4@m3@v3 \n",
    "v3_rez"
   ]
  }
 ],
 "metadata": {
  "kernelspec": {
   "display_name": "Python 3 (ipykernel)",
   "language": "python",
   "name": "python3"
  },
  "language_info": {
   "codemirror_mode": {
    "name": "ipython",
    "version": 3
   },
   "file_extension": ".py",
   "mimetype": "text/x-python",
   "name": "python",
   "nbconvert_exporter": "python",
   "pygments_lexer": "ipython3",
   "version": "3.9.7"
  },
  "toc": {
   "base_numbering": 1,
   "nav_menu": {
    "height": "411px",
    "width": "324px"
   },
   "number_sections": false,
   "sideBar": true,
   "skip_h1_title": false,
   "title_cell": "Table of Contents",
   "title_sidebar": "Contents",
   "toc_cell": false,
   "toc_position": {},
   "toc_section_display": true,
   "toc_window_display": true
  }
 },
 "nbformat": 4,
 "nbformat_minor": 5
}
